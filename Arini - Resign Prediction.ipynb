{
 "cells": [
  {
   "cell_type": "markdown",
   "metadata": {
    "id": "8TVEoM8O0MxI"
   },
   "source": [
    "# Awal"
   ]
  },
  {
   "cell_type": "code",
   "execution_count": 2,
   "metadata": {
    "id": "kchIr3jr3opQ"
   },
   "outputs": [],
   "source": [
    "import pandas as pd\n",
    "import numpy as np\n",
    "import matplotlib.pyplot as plt\n",
    "import seaborn as sns\n",
    "import io\n",
    "from google.colab import files\n",
    "import scipy.stats as stats\n",
    "from scipy.stats import kstest\n",
    "import seaborn as sns\n",
    "import matplotlib.patches as mpatches"
   ]
  },
  {
   "cell_type": "code",
   "execution_count": 3,
   "metadata": {
    "colab": {
     "base_uri": "https://localhost:8080/",
     "height": 73,
     "resources": {
      "http://localhost:8080/nbextensions/google.colab/files.js": {
       "data": "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",
       "headers": [
        [
         "content-type",
         "application/javascript"
        ]
       ],
       "ok": true,
       "status": 200,
       "status_text": ""
      }
     }
    },
    "id": "5iyVwmaB3y-K",
    "outputId": "6bf5286d-5359-4bdd-e8bf-407bdc7a803a"
   },
   "outputs": [
    {
     "data": {
      "text/html": [
       "\n",
       "     <input type=\"file\" id=\"files-a5191e1f-6334-4ed0-8f51-bada39a10e59\" name=\"files[]\" multiple disabled\n",
       "        style=\"border:none\" />\n",
       "     <output id=\"result-a5191e1f-6334-4ed0-8f51-bada39a10e59\">\n",
       "      Upload widget is only available when the cell has been executed in the\n",
       "      current browser session. Please rerun this cell to enable.\n",
       "      </output>\n",
       "      <script src=\"/nbextensions/google.colab/files.js\"></script> "
      ],
      "text/plain": [
       "<IPython.core.display.HTML object>"
      ]
     },
     "metadata": {
      "tags": []
     },
     "output_type": "display_data"
    },
    {
     "name": "stdout",
     "output_type": "stream",
     "text": [
      "Saving train.csv to train.csv\n"
     ]
    }
   ],
   "source": [
    "traincsv = files.upload()"
   ]
  },
  {
   "cell_type": "code",
   "execution_count": 119,
   "metadata": {
    "colab": {
     "base_uri": "https://localhost:8080/",
     "height": 73,
     "resources": {
      "http://localhost:8080/nbextensions/google.colab/files.js": {
       "data": "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",
       "headers": [
        [
         "content-type",
         "application/javascript"
        ]
       ],
       "ok": true,
       "status": 200,
       "status_text": ""
      }
     }
    },
    "id": "GknUzMfTE4QR",
    "outputId": "339d621e-0842-41a7-d22d-7623b4bb5016"
   },
   "outputs": [
    {
     "data": {
      "text/html": [
       "\n",
       "     <input type=\"file\" id=\"files-7a392d95-d55e-467e-a692-a928b436fe98\" name=\"files[]\" multiple disabled\n",
       "        style=\"border:none\" />\n",
       "     <output id=\"result-7a392d95-d55e-467e-a692-a928b436fe98\">\n",
       "      Upload widget is only available when the cell has been executed in the\n",
       "      current browser session. Please rerun this cell to enable.\n",
       "      </output>\n",
       "      <script src=\"/nbextensions/google.colab/files.js\"></script> "
      ],
      "text/plain": [
       "<IPython.core.display.HTML object>"
      ]
     },
     "metadata": {
      "tags": []
     },
     "output_type": "display_data"
    },
    {
     "name": "stdout",
     "output_type": "stream",
     "text": [
      "Saving test.csv to test (1).csv\n"
     ]
    }
   ],
   "source": [
    "testcsv = files.upload()  "
   ]
  },
  {
   "cell_type": "code",
   "execution_count": 120,
   "metadata": {
    "id": "LL1zoYfZEz4L"
   },
   "outputs": [],
   "source": [
    "train = pd.read_csv(io.BytesIO(traincsv['train.csv']))"
   ]
  },
  {
   "cell_type": "code",
   "execution_count": 121,
   "metadata": {
    "id": "_ROMNyJh31BL"
   },
   "outputs": [],
   "source": [
    "test = pd.read_csv(io.BytesIO(testcsv['test.csv']))"
   ]
  },
  {
   "cell_type": "code",
   "execution_count": 122,
   "metadata": {
    "colab": {
     "base_uri": "https://localhost:8080/",
     "height": 277
    },
    "id": "Kp7mu7mU4sdN",
    "outputId": "9950d997-a663-4834-8d2b-b954999523b7"
   },
   "outputs": [
    {
     "data": {
      "text/html": [
       "<div>\n",
       "<style scoped>\n",
       "    .dataframe tbody tr th:only-of-type {\n",
       "        vertical-align: middle;\n",
       "    }\n",
       "\n",
       "    .dataframe tbody tr th {\n",
       "        vertical-align: top;\n",
       "    }\n",
       "\n",
       "    .dataframe thead th {\n",
       "        text-align: right;\n",
       "    }\n",
       "</style>\n",
       "<table border=\"1\" class=\"dataframe\">\n",
       "  <thead>\n",
       "    <tr style=\"text-align: right;\">\n",
       "      <th></th>\n",
       "      <th>employee_id</th>\n",
       "      <th>umur</th>\n",
       "      <th>jenis_kelamin</th>\n",
       "      <th>IPK</th>\n",
       "      <th>level</th>\n",
       "      <th>tahun_lulus</th>\n",
       "      <th>status_perkawinan</th>\n",
       "      <th>divisi</th>\n",
       "      <th>rerata_jam_bulanan</th>\n",
       "      <th>tingkat_kepuasan_bekerja</th>\n",
       "      <th>nilai_evaluasi_terakhir</th>\n",
       "      <th>jumlah_proyek_yang_dikerjakan</th>\n",
       "      <th>lama_di_perusahaan</th>\n",
       "      <th>kecelakaan_kerja</th>\n",
       "      <th>promosi_5thn_lalu</th>\n",
       "      <th>tingkat_gaji</th>\n",
       "      <th>resign</th>\n",
       "    </tr>\n",
       "  </thead>\n",
       "  <tbody>\n",
       "    <tr>\n",
       "      <th>0</th>\n",
       "      <td>10000</td>\n",
       "      <td>NaN</td>\n",
       "      <td>Laki-laki</td>\n",
       "      <td>1.947303</td>\n",
       "      <td>Junior</td>\n",
       "      <td>NaN</td>\n",
       "      <td>Sudah Menikah</td>\n",
       "      <td>management</td>\n",
       "      <td>210.0</td>\n",
       "      <td>0.82</td>\n",
       "      <td>0.419035</td>\n",
       "      <td>3</td>\n",
       "      <td>3 Years</td>\n",
       "      <td>belum pernah</td>\n",
       "      <td>belum</td>\n",
       "      <td>sedang</td>\n",
       "      <td>0</td>\n",
       "    </tr>\n",
       "    <tr>\n",
       "      <th>1</th>\n",
       "      <td>10001</td>\n",
       "      <td>NaN</td>\n",
       "      <td>Laki-laki</td>\n",
       "      <td>3.218346</td>\n",
       "      <td>Full-Time</td>\n",
       "      <td>NaN</td>\n",
       "      <td>Belum Menikah</td>\n",
       "      <td>sales</td>\n",
       "      <td>189.0</td>\n",
       "      <td>0.76</td>\n",
       "      <td>0.558254</td>\n",
       "      <td>3</td>\n",
       "      <td>24 Months</td>\n",
       "      <td>belum pernah</td>\n",
       "      <td>belum</td>\n",
       "      <td>rendah</td>\n",
       "      <td>0</td>\n",
       "    </tr>\n",
       "    <tr>\n",
       "      <th>2</th>\n",
       "      <td>10002</td>\n",
       "      <td>NaN</td>\n",
       "      <td>Laki-laki</td>\n",
       "      <td>2.117364</td>\n",
       "      <td>Senior</td>\n",
       "      <td>NaN</td>\n",
       "      <td>Sudah Menikah</td>\n",
       "      <td>management</td>\n",
       "      <td>NaN</td>\n",
       "      <td>0.81</td>\n",
       "      <td>0.580364</td>\n",
       "      <td>5</td>\n",
       "      <td>2 Years</td>\n",
       "      <td>pernah</td>\n",
       "      <td>belum</td>\n",
       "      <td>tinggi</td>\n",
       "      <td>0</td>\n",
       "    </tr>\n",
       "    <tr>\n",
       "      <th>3</th>\n",
       "      <td>10003</td>\n",
       "      <td>NaN</td>\n",
       "      <td>Laki-laki</td>\n",
       "      <td>3.178748</td>\n",
       "      <td>Full-Time</td>\n",
       "      <td>NaN</td>\n",
       "      <td>Belum Menikah</td>\n",
       "      <td>sales</td>\n",
       "      <td>121.0</td>\n",
       "      <td>0.84</td>\n",
       "      <td>0.446109</td>\n",
       "      <td>3</td>\n",
       "      <td>36 Months</td>\n",
       "      <td>pernah</td>\n",
       "      <td>belum</td>\n",
       "      <td>rendah</td>\n",
       "      <td>0</td>\n",
       "    </tr>\n",
       "    <tr>\n",
       "      <th>4</th>\n",
       "      <td>10004</td>\n",
       "      <td>34.0</td>\n",
       "      <td>Laki-laki</td>\n",
       "      <td>2.680535</td>\n",
       "      <td>Part-Time</td>\n",
       "      <td>2008.0</td>\n",
       "      <td>Belum Menikah</td>\n",
       "      <td>technical</td>\n",
       "      <td>229.0</td>\n",
       "      <td>0.48</td>\n",
       "      <td>NaN</td>\n",
       "      <td>3</td>\n",
       "      <td>3 Years</td>\n",
       "      <td>belum pernah</td>\n",
       "      <td>belum</td>\n",
       "      <td>rendah</td>\n",
       "      <td>0</td>\n",
       "    </tr>\n",
       "  </tbody>\n",
       "</table>\n",
       "</div>"
      ],
      "text/plain": [
       "   employee_id  umur jenis_kelamin  ...  promosi_5thn_lalu tingkat_gaji  resign\n",
       "0        10000   NaN     Laki-laki  ...              belum       sedang       0\n",
       "1        10001   NaN     Laki-laki  ...              belum       rendah       0\n",
       "2        10002   NaN     Laki-laki  ...              belum       tinggi       0\n",
       "3        10003   NaN     Laki-laki  ...              belum       rendah       0\n",
       "4        10004  34.0     Laki-laki  ...              belum       rendah       0\n",
       "\n",
       "[5 rows x 17 columns]"
      ]
     },
     "execution_count": 122,
     "metadata": {
      "tags": []
     },
     "output_type": "execute_result"
    }
   ],
   "source": [
    "train.head()"
   ]
  },
  {
   "cell_type": "code",
   "execution_count": 123,
   "metadata": {
    "colab": {
     "base_uri": "https://localhost:8080/",
     "height": 243
    },
    "id": "W9dtrb2BFY-y",
    "outputId": "a4746043-36eb-4bbc-f0aa-fcec9035558f"
   },
   "outputs": [
    {
     "data": {
      "text/html": [
       "<div>\n",
       "<style scoped>\n",
       "    .dataframe tbody tr th:only-of-type {\n",
       "        vertical-align: middle;\n",
       "    }\n",
       "\n",
       "    .dataframe tbody tr th {\n",
       "        vertical-align: top;\n",
       "    }\n",
       "\n",
       "    .dataframe thead th {\n",
       "        text-align: right;\n",
       "    }\n",
       "</style>\n",
       "<table border=\"1\" class=\"dataframe\">\n",
       "  <thead>\n",
       "    <tr style=\"text-align: right;\">\n",
       "      <th></th>\n",
       "      <th>employee_id</th>\n",
       "      <th>umur</th>\n",
       "      <th>jenis_kelamin</th>\n",
       "      <th>IPK</th>\n",
       "      <th>level</th>\n",
       "      <th>tahun_lulus</th>\n",
       "      <th>status_perkawinan</th>\n",
       "      <th>divisi</th>\n",
       "      <th>rerata_jam_bulanan</th>\n",
       "      <th>tingkat_kepuasan_bekerja</th>\n",
       "      <th>nilai_evaluasi_terakhir</th>\n",
       "      <th>jumlah_proyek_yang_dikerjakan</th>\n",
       "      <th>lama_di_perusahaan</th>\n",
       "      <th>kecelakaan_kerja</th>\n",
       "      <th>promosi_5thn_lalu</th>\n",
       "      <th>tingkat_gaji</th>\n",
       "    </tr>\n",
       "  </thead>\n",
       "  <tbody>\n",
       "    <tr>\n",
       "      <th>0</th>\n",
       "      <td>20049</td>\n",
       "      <td>NaN</td>\n",
       "      <td>Laki-laki</td>\n",
       "      <td>2.119406</td>\n",
       "      <td>Senior</td>\n",
       "      <td>NaN</td>\n",
       "      <td>Belum Menikah</td>\n",
       "      <td>technical</td>\n",
       "      <td>137.0</td>\n",
       "      <td>0.38</td>\n",
       "      <td>0.372242</td>\n",
       "      <td>2</td>\n",
       "      <td>36 Months</td>\n",
       "      <td>belum pernah</td>\n",
       "      <td>belum</td>\n",
       "      <td>rendah</td>\n",
       "    </tr>\n",
       "    <tr>\n",
       "      <th>1</th>\n",
       "      <td>20050</td>\n",
       "      <td>31.0</td>\n",
       "      <td>Laki-laki</td>\n",
       "      <td>2.554876</td>\n",
       "      <td>Part-Time</td>\n",
       "      <td>NaN</td>\n",
       "      <td>Sudah Menikah</td>\n",
       "      <td>sales</td>\n",
       "      <td>258.0</td>\n",
       "      <td>0.85</td>\n",
       "      <td>0.334727</td>\n",
       "      <td>3</td>\n",
       "      <td>3 Years</td>\n",
       "      <td>belum pernah</td>\n",
       "      <td>belum</td>\n",
       "      <td>sedang</td>\n",
       "    </tr>\n",
       "    <tr>\n",
       "      <th>2</th>\n",
       "      <td>20051</td>\n",
       "      <td>NaN</td>\n",
       "      <td>Laki-laki</td>\n",
       "      <td>1.151644</td>\n",
       "      <td>Probation</td>\n",
       "      <td>NaN</td>\n",
       "      <td>Sudah Menikah</td>\n",
       "      <td>marketing</td>\n",
       "      <td>257.0</td>\n",
       "      <td>0.91</td>\n",
       "      <td>0.459594</td>\n",
       "      <td>3</td>\n",
       "      <td>36 Months</td>\n",
       "      <td>belum pernah</td>\n",
       "      <td>belum</td>\n",
       "      <td>sedang</td>\n",
       "    </tr>\n",
       "    <tr>\n",
       "      <th>3</th>\n",
       "      <td>20052</td>\n",
       "      <td>NaN</td>\n",
       "      <td>Perempuan</td>\n",
       "      <td>1.963498</td>\n",
       "      <td>Senior</td>\n",
       "      <td>NaN</td>\n",
       "      <td>Belum Menikah</td>\n",
       "      <td>sales</td>\n",
       "      <td>142.0</td>\n",
       "      <td>0.42</td>\n",
       "      <td>0.370912</td>\n",
       "      <td>2</td>\n",
       "      <td>3 Years</td>\n",
       "      <td>belum pernah</td>\n",
       "      <td>belum</td>\n",
       "      <td>rendah</td>\n",
       "    </tr>\n",
       "    <tr>\n",
       "      <th>4</th>\n",
       "      <td>20053</td>\n",
       "      <td>NaN</td>\n",
       "      <td>Perempuan</td>\n",
       "      <td>1.666068</td>\n",
       "      <td>Junior</td>\n",
       "      <td>2007.0</td>\n",
       "      <td>Belum Menikah</td>\n",
       "      <td>sales</td>\n",
       "      <td>272.0</td>\n",
       "      <td>0.93</td>\n",
       "      <td>0.563354</td>\n",
       "      <td>3</td>\n",
       "      <td>2 Years</td>\n",
       "      <td>pernah</td>\n",
       "      <td>belum</td>\n",
       "      <td>rendah</td>\n",
       "    </tr>\n",
       "  </tbody>\n",
       "</table>\n",
       "</div>"
      ],
      "text/plain": [
       "   employee_id  umur  ... promosi_5thn_lalu  tingkat_gaji\n",
       "0        20049   NaN  ...             belum        rendah\n",
       "1        20050  31.0  ...             belum        sedang\n",
       "2        20051   NaN  ...             belum        sedang\n",
       "3        20052   NaN  ...             belum        rendah\n",
       "4        20053   NaN  ...             belum        rendah\n",
       "\n",
       "[5 rows x 16 columns]"
      ]
     },
     "execution_count": 123,
     "metadata": {
      "tags": []
     },
     "output_type": "execute_result"
    }
   ],
   "source": [
    "test.head()"
   ]
  },
  {
   "cell_type": "code",
   "execution_count": 124,
   "metadata": {
    "colab": {
     "base_uri": "https://localhost:8080/",
     "height": 319
    },
    "id": "Ws8CmuwkFaUP",
    "outputId": "62b27d48-a0a7-4860-8da7-76ffbadceb17"
   },
   "outputs": [
    {
     "data": {
      "text/html": [
       "<div>\n",
       "<style scoped>\n",
       "    .dataframe tbody tr th:only-of-type {\n",
       "        vertical-align: middle;\n",
       "    }\n",
       "\n",
       "    .dataframe tbody tr th {\n",
       "        vertical-align: top;\n",
       "    }\n",
       "\n",
       "    .dataframe thead th {\n",
       "        text-align: right;\n",
       "    }\n",
       "</style>\n",
       "<table border=\"1\" class=\"dataframe\">\n",
       "  <thead>\n",
       "    <tr style=\"text-align: right;\">\n",
       "      <th></th>\n",
       "      <th>employee_id</th>\n",
       "      <th>umur</th>\n",
       "      <th>IPK</th>\n",
       "      <th>tahun_lulus</th>\n",
       "      <th>rerata_jam_bulanan</th>\n",
       "      <th>tingkat_kepuasan_bekerja</th>\n",
       "      <th>nilai_evaluasi_terakhir</th>\n",
       "      <th>jumlah_proyek_yang_dikerjakan</th>\n",
       "      <th>resign</th>\n",
       "    </tr>\n",
       "  </thead>\n",
       "  <tbody>\n",
       "    <tr>\n",
       "      <th>count</th>\n",
       "      <td>10049.000000</td>\n",
       "      <td>2338.000000</td>\n",
       "      <td>10049.000000</td>\n",
       "      <td>2338.000000</td>\n",
       "      <td>8700.000000</td>\n",
       "      <td>9253.000000</td>\n",
       "      <td>8499.000000</td>\n",
       "      <td>10049.000000</td>\n",
       "      <td>10049.000000</td>\n",
       "    </tr>\n",
       "    <tr>\n",
       "      <th>mean</th>\n",
       "      <td>15024.000000</td>\n",
       "      <td>33.499572</td>\n",
       "      <td>2.396161</td>\n",
       "      <td>2008.151839</td>\n",
       "      <td>202.981379</td>\n",
       "      <td>0.611906</td>\n",
       "      <td>0.455847</td>\n",
       "      <td>3.797691</td>\n",
       "      <td>0.238034</td>\n",
       "    </tr>\n",
       "    <tr>\n",
       "      <th>std</th>\n",
       "      <td>2901.040762</td>\n",
       "      <td>7.951891</td>\n",
       "      <td>0.868485</td>\n",
       "      <td>7.988843</td>\n",
       "      <td>56.708467</td>\n",
       "      <td>0.247945</td>\n",
       "      <td>0.113812</td>\n",
       "      <td>1.227331</td>\n",
       "      <td>0.425901</td>\n",
       "    </tr>\n",
       "    <tr>\n",
       "      <th>min</th>\n",
       "      <td>10000.000000</td>\n",
       "      <td>20.000000</td>\n",
       "      <td>0.003057</td>\n",
       "      <td>1986.000000</td>\n",
       "      <td>96.000000</td>\n",
       "      <td>0.090000</td>\n",
       "      <td>0.000000</td>\n",
       "      <td>2.000000</td>\n",
       "      <td>0.000000</td>\n",
       "    </tr>\n",
       "    <tr>\n",
       "      <th>25%</th>\n",
       "      <td>12512.000000</td>\n",
       "      <td>27.000000</td>\n",
       "      <td>1.778721</td>\n",
       "      <td>2003.000000</td>\n",
       "      <td>156.000000</td>\n",
       "      <td>0.440000</td>\n",
       "      <td>0.382326</td>\n",
       "      <td>3.000000</td>\n",
       "      <td>0.000000</td>\n",
       "    </tr>\n",
       "    <tr>\n",
       "      <th>50%</th>\n",
       "      <td>15024.000000</td>\n",
       "      <td>32.000000</td>\n",
       "      <td>2.523730</td>\n",
       "      <td>2009.000000</td>\n",
       "      <td>200.000000</td>\n",
       "      <td>0.640000</td>\n",
       "      <td>0.448720</td>\n",
       "      <td>4.000000</td>\n",
       "      <td>0.000000</td>\n",
       "    </tr>\n",
       "    <tr>\n",
       "      <th>75%</th>\n",
       "      <td>17536.000000</td>\n",
       "      <td>39.000000</td>\n",
       "      <td>3.091618</td>\n",
       "      <td>2015.000000</td>\n",
       "      <td>246.000000</td>\n",
       "      <td>0.810000</td>\n",
       "      <td>0.522630</td>\n",
       "      <td>5.000000</td>\n",
       "      <td>0.000000</td>\n",
       "    </tr>\n",
       "    <tr>\n",
       "      <th>max</th>\n",
       "      <td>20048.000000</td>\n",
       "      <td>55.000000</td>\n",
       "      <td>3.989568</td>\n",
       "      <td>2024.000000</td>\n",
       "      <td>559.000000</td>\n",
       "      <td>1.000000</td>\n",
       "      <td>1.000000</td>\n",
       "      <td>7.000000</td>\n",
       "      <td>1.000000</td>\n",
       "    </tr>\n",
       "  </tbody>\n",
       "</table>\n",
       "</div>"
      ],
      "text/plain": [
       "        employee_id         umur  ...  jumlah_proyek_yang_dikerjakan        resign\n",
       "count  10049.000000  2338.000000  ...                   10049.000000  10049.000000\n",
       "mean   15024.000000    33.499572  ...                       3.797691      0.238034\n",
       "std     2901.040762     7.951891  ...                       1.227331      0.425901\n",
       "min    10000.000000    20.000000  ...                       2.000000      0.000000\n",
       "25%    12512.000000    27.000000  ...                       3.000000      0.000000\n",
       "50%    15024.000000    32.000000  ...                       4.000000      0.000000\n",
       "75%    17536.000000    39.000000  ...                       5.000000      0.000000\n",
       "max    20048.000000    55.000000  ...                       7.000000      1.000000\n",
       "\n",
       "[8 rows x 9 columns]"
      ]
     },
     "execution_count": 124,
     "metadata": {
      "tags": []
     },
     "output_type": "execute_result"
    }
   ],
   "source": [
    "train.describe()"
   ]
  },
  {
   "cell_type": "code",
   "execution_count": 125,
   "metadata": {
    "colab": {
     "base_uri": "https://localhost:8080/",
     "height": 299
    },
    "id": "bEK_EyKCFjY3",
    "outputId": "a65f9a64-8d5b-40cc-b636-cd20670acd59"
   },
   "outputs": [
    {
     "data": {
      "text/html": [
       "<div>\n",
       "<style scoped>\n",
       "    .dataframe tbody tr th:only-of-type {\n",
       "        vertical-align: middle;\n",
       "    }\n",
       "\n",
       "    .dataframe tbody tr th {\n",
       "        vertical-align: top;\n",
       "    }\n",
       "\n",
       "    .dataframe thead th {\n",
       "        text-align: right;\n",
       "    }\n",
       "</style>\n",
       "<table border=\"1\" class=\"dataframe\">\n",
       "  <thead>\n",
       "    <tr style=\"text-align: right;\">\n",
       "      <th></th>\n",
       "      <th>employee_id</th>\n",
       "      <th>umur</th>\n",
       "      <th>IPK</th>\n",
       "      <th>tahun_lulus</th>\n",
       "      <th>rerata_jam_bulanan</th>\n",
       "      <th>tingkat_kepuasan_bekerja</th>\n",
       "      <th>nilai_evaluasi_terakhir</th>\n",
       "      <th>jumlah_proyek_yang_dikerjakan</th>\n",
       "    </tr>\n",
       "  </thead>\n",
       "  <tbody>\n",
       "    <tr>\n",
       "      <th>count</th>\n",
       "      <td>4950.000000</td>\n",
       "      <td>1070.000000</td>\n",
       "      <td>4950.000000</td>\n",
       "      <td>1151.000000</td>\n",
       "      <td>4362.000000</td>\n",
       "      <td>4484.000000</td>\n",
       "      <td>4094.000000</td>\n",
       "      <td>4950.000000</td>\n",
       "    </tr>\n",
       "    <tr>\n",
       "      <th>mean</th>\n",
       "      <td>22523.500000</td>\n",
       "      <td>32.106542</td>\n",
       "      <td>2.192240</td>\n",
       "      <td>2008.136403</td>\n",
       "      <td>203.649243</td>\n",
       "      <td>0.612132</td>\n",
       "      <td>0.455039</td>\n",
       "      <td>3.813939</td>\n",
       "    </tr>\n",
       "    <tr>\n",
       "      <th>std</th>\n",
       "      <td>1429.086247</td>\n",
       "      <td>8.220753</td>\n",
       "      <td>0.849280</td>\n",
       "      <td>7.847547</td>\n",
       "      <td>53.969888</td>\n",
       "      <td>0.249748</td>\n",
       "      <td>0.111901</td>\n",
       "      <td>1.243259</td>\n",
       "    </tr>\n",
       "    <tr>\n",
       "      <th>min</th>\n",
       "      <td>20049.000000</td>\n",
       "      <td>20.000000</td>\n",
       "      <td>0.070343</td>\n",
       "      <td>1985.000000</td>\n",
       "      <td>97.000000</td>\n",
       "      <td>0.090000</td>\n",
       "      <td>0.003120</td>\n",
       "      <td>2.000000</td>\n",
       "    </tr>\n",
       "    <tr>\n",
       "      <th>25%</th>\n",
       "      <td>21286.250000</td>\n",
       "      <td>26.000000</td>\n",
       "      <td>1.582960</td>\n",
       "      <td>2003.000000</td>\n",
       "      <td>157.000000</td>\n",
       "      <td>0.440000</td>\n",
       "      <td>0.381316</td>\n",
       "      <td>3.000000</td>\n",
       "    </tr>\n",
       "    <tr>\n",
       "      <th>50%</th>\n",
       "      <td>22523.500000</td>\n",
       "      <td>31.000000</td>\n",
       "      <td>2.274299</td>\n",
       "      <td>2009.000000</td>\n",
       "      <td>202.000000</td>\n",
       "      <td>0.640000</td>\n",
       "      <td>0.450842</td>\n",
       "      <td>4.000000</td>\n",
       "    </tr>\n",
       "    <tr>\n",
       "      <th>75%</th>\n",
       "      <td>23760.750000</td>\n",
       "      <td>37.000000</td>\n",
       "      <td>2.830191</td>\n",
       "      <td>2014.000000</td>\n",
       "      <td>246.000000</td>\n",
       "      <td>0.820000</td>\n",
       "      <td>0.522663</td>\n",
       "      <td>5.000000</td>\n",
       "    </tr>\n",
       "    <tr>\n",
       "      <th>max</th>\n",
       "      <td>24998.000000</td>\n",
       "      <td>55.000000</td>\n",
       "      <td>3.950760</td>\n",
       "      <td>2023.000000</td>\n",
       "      <td>559.000000</td>\n",
       "      <td>1.000000</td>\n",
       "      <td>0.918187</td>\n",
       "      <td>7.000000</td>\n",
       "    </tr>\n",
       "  </tbody>\n",
       "</table>\n",
       "</div>"
      ],
      "text/plain": [
       "        employee_id  ...  jumlah_proyek_yang_dikerjakan\n",
       "count   4950.000000  ...                    4950.000000\n",
       "mean   22523.500000  ...                       3.813939\n",
       "std     1429.086247  ...                       1.243259\n",
       "min    20049.000000  ...                       2.000000\n",
       "25%    21286.250000  ...                       3.000000\n",
       "50%    22523.500000  ...                       4.000000\n",
       "75%    23760.750000  ...                       5.000000\n",
       "max    24998.000000  ...                       7.000000\n",
       "\n",
       "[8 rows x 8 columns]"
      ]
     },
     "execution_count": 125,
     "metadata": {
      "tags": []
     },
     "output_type": "execute_result"
    }
   ],
   "source": [
    "test.describe()"
   ]
  },
  {
   "cell_type": "code",
   "execution_count": 126,
   "metadata": {
    "colab": {
     "base_uri": "https://localhost:8080/"
    },
    "id": "PiQnpM_FFrF_",
    "outputId": "2f6dbe11-1971-4936-baa9-ad5d3d525cc2"
   },
   "outputs": [
    {
     "data": {
      "text/plain": [
       "False"
      ]
     },
     "execution_count": 126,
     "metadata": {
      "tags": []
     },
     "output_type": "execute_result"
    }
   ],
   "source": [
    "train.duplicated().any()"
   ]
  },
  {
   "cell_type": "code",
   "execution_count": 127,
   "metadata": {
    "colab": {
     "base_uri": "https://localhost:8080/"
    },
    "id": "UKQOudUBFxTM",
    "outputId": "8ba3a932-f7f8-4321-de86-9a243ac261f0"
   },
   "outputs": [
    {
     "data": {
      "text/plain": [
       "employee_id                         0\n",
       "umur                             7711\n",
       "jenis_kelamin                       0\n",
       "IPK                                 0\n",
       "level                               0\n",
       "tahun_lulus                      7711\n",
       "status_perkawinan                   0\n",
       "divisi                              0\n",
       "rerata_jam_bulanan               1349\n",
       "tingkat_kepuasan_bekerja          796\n",
       "nilai_evaluasi_terakhir          1550\n",
       "jumlah_proyek_yang_dikerjakan       0\n",
       "lama_di_perusahaan                  0\n",
       "kecelakaan_kerja                    0\n",
       "promosi_5thn_lalu                   0\n",
       "tingkat_gaji                        0\n",
       "resign                              0\n",
       "dtype: int64"
      ]
     },
     "execution_count": 127,
     "metadata": {
      "tags": []
     },
     "output_type": "execute_result"
    }
   ],
   "source": [
    "train.isna().sum()"
   ]
  },
  {
   "cell_type": "code",
   "execution_count": 128,
   "metadata": {
    "colab": {
     "base_uri": "https://localhost:8080/"
    },
    "id": "znO3swYCF2vE",
    "outputId": "d36f2588-82b2-45d9-deed-0b6031c567d0"
   },
   "outputs": [
    {
     "data": {
      "text/plain": [
       "employee_id                        int64\n",
       "umur                             float64\n",
       "jenis_kelamin                     object\n",
       "IPK                              float64\n",
       "level                             object\n",
       "tahun_lulus                      float64\n",
       "status_perkawinan                 object\n",
       "divisi                            object\n",
       "rerata_jam_bulanan               float64\n",
       "tingkat_kepuasan_bekerja         float64\n",
       "nilai_evaluasi_terakhir          float64\n",
       "jumlah_proyek_yang_dikerjakan      int64\n",
       "lama_di_perusahaan                object\n",
       "kecelakaan_kerja                  object\n",
       "promosi_5thn_lalu                 object\n",
       "tingkat_gaji                      object\n",
       "resign                             int64\n",
       "dtype: object"
      ]
     },
     "execution_count": 128,
     "metadata": {
      "tags": []
     },
     "output_type": "execute_result"
    }
   ],
   "source": [
    "train.dtypes"
   ]
  },
  {
   "cell_type": "code",
   "execution_count": 129,
   "metadata": {
    "colab": {
     "base_uri": "https://localhost:8080/"
    },
    "id": "4mEAQm41Kl31",
    "outputId": "8ee8868e-7259-490a-ba8c-9b71dd47de5e"
   },
   "outputs": [
    {
     "data": {
      "text/plain": [
       "(10049, 17)"
      ]
     },
     "execution_count": 129,
     "metadata": {
      "tags": []
     },
     "output_type": "execute_result"
    }
   ],
   "source": [
    "train.shape"
   ]
  },
  {
   "cell_type": "code",
   "execution_count": 130,
   "metadata": {
    "id": "nD4-nHiCGXBW"
   },
   "outputs": [],
   "source": [
    "#Buat kolom baru lama di perusahaan numerik - train\n",
    "length = len(train['employee_id'])\n",
    "train = train.assign(lama_di_perusahaan_num=pd.Series(np.random.randn(length)).values)"
   ]
  },
  {
   "cell_type": "code",
   "execution_count": 131,
   "metadata": {
    "id": "71PAgn8tTahZ"
   },
   "outputs": [],
   "source": [
    "#Buat kolom baru lama di perusahaan numerik - test\n",
    "lengthtest = len(test['employee_id'])\n",
    "test = test.assign(lama_di_perusahaan_num=pd.Series(np.random.randn(lengthtest)).values)"
   ]
  },
  {
   "cell_type": "code",
   "execution_count": 132,
   "metadata": {
    "colab": {
     "base_uri": "https://localhost:8080/"
    },
    "id": "6ONrajGU36gA",
    "outputId": "84490b96-664d-4827-92cc-0b59d016f360"
   },
   "outputs": [
    {
     "name": "stderr",
     "output_type": "stream",
     "text": [
      "/usr/local/lib/python3.7/dist-packages/ipykernel_launcher.py:8: SettingWithCopyWarning: \n",
      "A value is trying to be set on a copy of a slice from a DataFrame\n",
      "\n",
      "See the caveats in the documentation: https://pandas.pydata.org/pandas-docs/stable/user_guide/indexing.html#returning-a-view-versus-a-copy\n",
      "  \n",
      "/usr/local/lib/python3.7/dist-packages/ipykernel_launcher.py:22: SettingWithCopyWarning: \n",
      "A value is trying to be set on a copy of a slice from a DataFrame\n",
      "\n",
      "See the caveats in the documentation: https://pandas.pydata.org/pandas-docs/stable/user_guide/indexing.html#returning-a-view-versus-a-copy\n",
      "/usr/local/lib/python3.7/dist-packages/ipykernel_launcher.py:6: SettingWithCopyWarning: \n",
      "A value is trying to be set on a copy of a slice from a DataFrame\n",
      "\n",
      "See the caveats in the documentation: https://pandas.pydata.org/pandas-docs/stable/user_guide/indexing.html#returning-a-view-versus-a-copy\n",
      "  \n",
      "/usr/local/lib/python3.7/dist-packages/ipykernel_launcher.py:24: SettingWithCopyWarning: \n",
      "A value is trying to be set on a copy of a slice from a DataFrame\n",
      "\n",
      "See the caveats in the documentation: https://pandas.pydata.org/pandas-docs/stable/user_guide/indexing.html#returning-a-view-versus-a-copy\n",
      "/usr/local/lib/python3.7/dist-packages/ipykernel_launcher.py:10: SettingWithCopyWarning: \n",
      "A value is trying to be set on a copy of a slice from a DataFrame\n",
      "\n",
      "See the caveats in the documentation: https://pandas.pydata.org/pandas-docs/stable/user_guide/indexing.html#returning-a-view-versus-a-copy\n",
      "  # Remove the CWD from sys.path while we load stuff.\n",
      "/usr/local/lib/python3.7/dist-packages/ipykernel_launcher.py:26: SettingWithCopyWarning: \n",
      "A value is trying to be set on a copy of a slice from a DataFrame\n",
      "\n",
      "See the caveats in the documentation: https://pandas.pydata.org/pandas-docs/stable/user_guide/indexing.html#returning-a-view-versus-a-copy\n",
      "/usr/local/lib/python3.7/dist-packages/ipykernel_launcher.py:28: SettingWithCopyWarning: \n",
      "A value is trying to be set on a copy of a slice from a DataFrame\n",
      "\n",
      "See the caveats in the documentation: https://pandas.pydata.org/pandas-docs/stable/user_guide/indexing.html#returning-a-view-versus-a-copy\n",
      "/usr/local/lib/python3.7/dist-packages/ipykernel_launcher.py:30: SettingWithCopyWarning: \n",
      "A value is trying to be set on a copy of a slice from a DataFrame\n",
      "\n",
      "See the caveats in the documentation: https://pandas.pydata.org/pandas-docs/stable/user_guide/indexing.html#returning-a-view-versus-a-copy\n",
      "/usr/local/lib/python3.7/dist-packages/ipykernel_launcher.py:12: SettingWithCopyWarning: \n",
      "A value is trying to be set on a copy of a slice from a DataFrame\n",
      "\n",
      "See the caveats in the documentation: https://pandas.pydata.org/pandas-docs/stable/user_guide/indexing.html#returning-a-view-versus-a-copy\n",
      "  if sys.path[0] == '':\n",
      "/usr/local/lib/python3.7/dist-packages/ipykernel_launcher.py:14: SettingWithCopyWarning: \n",
      "A value is trying to be set on a copy of a slice from a DataFrame\n",
      "\n",
      "See the caveats in the documentation: https://pandas.pydata.org/pandas-docs/stable/user_guide/indexing.html#returning-a-view-versus-a-copy\n",
      "  \n",
      "/usr/local/lib/python3.7/dist-packages/ipykernel_launcher.py:16: SettingWithCopyWarning: \n",
      "A value is trying to be set on a copy of a slice from a DataFrame\n",
      "\n",
      "See the caveats in the documentation: https://pandas.pydata.org/pandas-docs/stable/user_guide/indexing.html#returning-a-view-versus-a-copy\n",
      "  app.launch_new_instance()\n",
      "/usr/local/lib/python3.7/dist-packages/ipykernel_launcher.py:34: SettingWithCopyWarning: \n",
      "A value is trying to be set on a copy of a slice from a DataFrame\n",
      "\n",
      "See the caveats in the documentation: https://pandas.pydata.org/pandas-docs/stable/user_guide/indexing.html#returning-a-view-versus-a-copy\n",
      "/usr/local/lib/python3.7/dist-packages/ipykernel_launcher.py:4: SettingWithCopyWarning: \n",
      "A value is trying to be set on a copy of a slice from a DataFrame\n",
      "\n",
      "See the caveats in the documentation: https://pandas.pydata.org/pandas-docs/stable/user_guide/indexing.html#returning-a-view-versus-a-copy\n",
      "  after removing the cwd from sys.path.\n",
      "/usr/local/lib/python3.7/dist-packages/ipykernel_launcher.py:18: SettingWithCopyWarning: \n",
      "A value is trying to be set on a copy of a slice from a DataFrame\n",
      "\n",
      "See the caveats in the documentation: https://pandas.pydata.org/pandas-docs/stable/user_guide/indexing.html#returning-a-view-versus-a-copy\n",
      "/usr/local/lib/python3.7/dist-packages/ipykernel_launcher.py:32: SettingWithCopyWarning: \n",
      "A value is trying to be set on a copy of a slice from a DataFrame\n",
      "\n",
      "See the caveats in the documentation: https://pandas.pydata.org/pandas-docs/stable/user_guide/indexing.html#returning-a-view-versus-a-copy\n",
      "/usr/local/lib/python3.7/dist-packages/ipykernel_launcher.py:20: SettingWithCopyWarning: \n",
      "A value is trying to be set on a copy of a slice from a DataFrame\n",
      "\n",
      "See the caveats in the documentation: https://pandas.pydata.org/pandas-docs/stable/user_guide/indexing.html#returning-a-view-versus-a-copy\n"
     ]
    }
   ],
   "source": [
    "#Mengisi lama di perusahaan numerik - train\n",
    "for i in range(len(train)):\n",
    "    if (train[\"lama_di_perusahaan\"][i]==\"10 Years\"):\n",
    "        train[\"lama_di_perusahaan_num\"][i] = 120\n",
    "    if (train[\"lama_di_perusahaan\"][i]==\"2 Years\"):\n",
    "        train[\"lama_di_perusahaan_num\"][i] = 24\n",
    "    if (train[\"lama_di_perusahaan\"][i]==\"3 Years\"):\n",
    "        train[\"lama_di_perusahaan_num\"][i] = 36\n",
    "    if (train[\"lama_di_perusahaan\"][i]==\"4 Years\"):\n",
    "        train[\"lama_di_perusahaan_num\"][i] = 48\n",
    "    if (train[\"lama_di_perusahaan\"][i]==\"5 Years\"):\n",
    "        train[\"lama_di_perusahaan_num\"][i] = 60\n",
    "    if (train[\"lama_di_perusahaan\"][i]==\"6 Years\"):\n",
    "        train[\"lama_di_perusahaan_num\"][i] = 72\n",
    "    if (train[\"lama_di_perusahaan\"][i]==\"7 Years\"):\n",
    "        train[\"lama_di_perusahaan_num\"][i] = 84\n",
    "    if (train[\"lama_di_perusahaan\"][i]==\"8 Years\"):\n",
    "        train[\"lama_di_perusahaan_num\"][i] = 96\n",
    "    if (train[\"lama_di_perusahaan\"][i]==\"120 Months\"):\n",
    "        train[\"lama_di_perusahaan_num\"][i] = 120\n",
    "    if (train[\"lama_di_perusahaan\"][i]==\"24 Months\"):\n",
    "        train[\"lama_di_perusahaan_num\"][i] = 24\n",
    "    if (train[\"lama_di_perusahaan\"][i]==\"36 Months\"):\n",
    "        train[\"lama_di_perusahaan_num\"][i] = 36\n",
    "    if (train[\"lama_di_perusahaan\"][i]==\"48 Months\"):\n",
    "        train[\"lama_di_perusahaan_num\"][i] = 48\n",
    "    if (train[\"lama_di_perusahaan\"][i]==\"60 Months\"):\n",
    "        train[\"lama_di_perusahaan_num\"][i] = 60\n",
    "    if (train[\"lama_di_perusahaan\"][i]==\"72 Months\"):\n",
    "        train[\"lama_di_perusahaan_num\"][i] = 72\n",
    "    if (train[\"lama_di_perusahaan\"][i]==\"84 Months\"):\n",
    "        train[\"lama_di_perusahaan_num\"][i] = 84\n",
    "    if (train[\"lama_di_perusahaan\"][i]==\"96 Months\"):\n",
    "        train[\"lama_di_perusahaan_num\"][i] = 96"
   ]
  },
  {
   "cell_type": "code",
   "execution_count": 133,
   "metadata": {
    "colab": {
     "base_uri": "https://localhost:8080/"
    },
    "id": "888RA6wXTnXj",
    "outputId": "77092a65-0e47-4d87-970a-1ec49dc40bac"
   },
   "outputs": [
    {
     "name": "stderr",
     "output_type": "stream",
     "text": [
      "/usr/local/lib/python3.7/dist-packages/ipykernel_launcher.py:24: SettingWithCopyWarning: \n",
      "A value is trying to be set on a copy of a slice from a DataFrame\n",
      "\n",
      "See the caveats in the documentation: https://pandas.pydata.org/pandas-docs/stable/user_guide/indexing.html#returning-a-view-versus-a-copy\n",
      "/usr/local/lib/python3.7/dist-packages/ipykernel_launcher.py:8: SettingWithCopyWarning: \n",
      "A value is trying to be set on a copy of a slice from a DataFrame\n",
      "\n",
      "See the caveats in the documentation: https://pandas.pydata.org/pandas-docs/stable/user_guide/indexing.html#returning-a-view-versus-a-copy\n",
      "  \n",
      "/usr/local/lib/python3.7/dist-packages/ipykernel_launcher.py:6: SettingWithCopyWarning: \n",
      "A value is trying to be set on a copy of a slice from a DataFrame\n",
      "\n",
      "See the caveats in the documentation: https://pandas.pydata.org/pandas-docs/stable/user_guide/indexing.html#returning-a-view-versus-a-copy\n",
      "  \n",
      "/usr/local/lib/python3.7/dist-packages/ipykernel_launcher.py:28: SettingWithCopyWarning: \n",
      "A value is trying to be set on a copy of a slice from a DataFrame\n",
      "\n",
      "See the caveats in the documentation: https://pandas.pydata.org/pandas-docs/stable/user_guide/indexing.html#returning-a-view-versus-a-copy\n",
      "/usr/local/lib/python3.7/dist-packages/ipykernel_launcher.py:34: SettingWithCopyWarning: \n",
      "A value is trying to be set on a copy of a slice from a DataFrame\n",
      "\n",
      "See the caveats in the documentation: https://pandas.pydata.org/pandas-docs/stable/user_guide/indexing.html#returning-a-view-versus-a-copy\n",
      "/usr/local/lib/python3.7/dist-packages/ipykernel_launcher.py:26: SettingWithCopyWarning: \n",
      "A value is trying to be set on a copy of a slice from a DataFrame\n",
      "\n",
      "See the caveats in the documentation: https://pandas.pydata.org/pandas-docs/stable/user_guide/indexing.html#returning-a-view-versus-a-copy\n",
      "/usr/local/lib/python3.7/dist-packages/ipykernel_launcher.py:14: SettingWithCopyWarning: \n",
      "A value is trying to be set on a copy of a slice from a DataFrame\n",
      "\n",
      "See the caveats in the documentation: https://pandas.pydata.org/pandas-docs/stable/user_guide/indexing.html#returning-a-view-versus-a-copy\n",
      "  \n",
      "/usr/local/lib/python3.7/dist-packages/ipykernel_launcher.py:12: SettingWithCopyWarning: \n",
      "A value is trying to be set on a copy of a slice from a DataFrame\n",
      "\n",
      "See the caveats in the documentation: https://pandas.pydata.org/pandas-docs/stable/user_guide/indexing.html#returning-a-view-versus-a-copy\n",
      "  if sys.path[0] == '':\n",
      "/usr/local/lib/python3.7/dist-packages/ipykernel_launcher.py:18: SettingWithCopyWarning: \n",
      "A value is trying to be set on a copy of a slice from a DataFrame\n",
      "\n",
      "See the caveats in the documentation: https://pandas.pydata.org/pandas-docs/stable/user_guide/indexing.html#returning-a-view-versus-a-copy\n",
      "/usr/local/lib/python3.7/dist-packages/ipykernel_launcher.py:10: SettingWithCopyWarning: \n",
      "A value is trying to be set on a copy of a slice from a DataFrame\n",
      "\n",
      "See the caveats in the documentation: https://pandas.pydata.org/pandas-docs/stable/user_guide/indexing.html#returning-a-view-versus-a-copy\n",
      "  # Remove the CWD from sys.path while we load stuff.\n",
      "/usr/local/lib/python3.7/dist-packages/ipykernel_launcher.py:4: SettingWithCopyWarning: \n",
      "A value is trying to be set on a copy of a slice from a DataFrame\n",
      "\n",
      "See the caveats in the documentation: https://pandas.pydata.org/pandas-docs/stable/user_guide/indexing.html#returning-a-view-versus-a-copy\n",
      "  after removing the cwd from sys.path.\n",
      "/usr/local/lib/python3.7/dist-packages/ipykernel_launcher.py:16: SettingWithCopyWarning: \n",
      "A value is trying to be set on a copy of a slice from a DataFrame\n",
      "\n",
      "See the caveats in the documentation: https://pandas.pydata.org/pandas-docs/stable/user_guide/indexing.html#returning-a-view-versus-a-copy\n",
      "  app.launch_new_instance()\n",
      "/usr/local/lib/python3.7/dist-packages/ipykernel_launcher.py:22: SettingWithCopyWarning: \n",
      "A value is trying to be set on a copy of a slice from a DataFrame\n",
      "\n",
      "See the caveats in the documentation: https://pandas.pydata.org/pandas-docs/stable/user_guide/indexing.html#returning-a-view-versus-a-copy\n",
      "/usr/local/lib/python3.7/dist-packages/ipykernel_launcher.py:32: SettingWithCopyWarning: \n",
      "A value is trying to be set on a copy of a slice from a DataFrame\n",
      "\n",
      "See the caveats in the documentation: https://pandas.pydata.org/pandas-docs/stable/user_guide/indexing.html#returning-a-view-versus-a-copy\n",
      "/usr/local/lib/python3.7/dist-packages/ipykernel_launcher.py:30: SettingWithCopyWarning: \n",
      "A value is trying to be set on a copy of a slice from a DataFrame\n",
      "\n",
      "See the caveats in the documentation: https://pandas.pydata.org/pandas-docs/stable/user_guide/indexing.html#returning-a-view-versus-a-copy\n",
      "/usr/local/lib/python3.7/dist-packages/ipykernel_launcher.py:20: SettingWithCopyWarning: \n",
      "A value is trying to be set on a copy of a slice from a DataFrame\n",
      "\n",
      "See the caveats in the documentation: https://pandas.pydata.org/pandas-docs/stable/user_guide/indexing.html#returning-a-view-versus-a-copy\n"
     ]
    }
   ],
   "source": [
    "#Mengisi lama di perusahaan numerik - test\n",
    "for i in range(len(test)):\n",
    "    if (test[\"lama_di_perusahaan\"][i]==\"10 Years\"):\n",
    "        test[\"lama_di_perusahaan_num\"][i] = 120\n",
    "    if (test[\"lama_di_perusahaan\"][i]==\"2 Years\"):\n",
    "        test[\"lama_di_perusahaan_num\"][i] = 24\n",
    "    if (test[\"lama_di_perusahaan\"][i]==\"3 Years\"):\n",
    "        test[\"lama_di_perusahaan_num\"][i] = 36\n",
    "    if (test[\"lama_di_perusahaan\"][i]==\"4 Years\"):\n",
    "        test[\"lama_di_perusahaan_num\"][i] = 48\n",
    "    if (test[\"lama_di_perusahaan\"][i]==\"5 Years\"):\n",
    "        test[\"lama_di_perusahaan_num\"][i] = 60\n",
    "    if (test[\"lama_di_perusahaan\"][i]==\"6 Years\"):\n",
    "        test[\"lama_di_perusahaan_num\"][i] = 72\n",
    "    if (test[\"lama_di_perusahaan\"][i]==\"7 Years\"):\n",
    "        test[\"lama_di_perusahaan_num\"][i] = 84\n",
    "    if (test[\"lama_di_perusahaan\"][i]==\"8 Years\"):\n",
    "        test[\"lama_di_perusahaan_num\"][i] = 96\n",
    "    if (test[\"lama_di_perusahaan\"][i]==\"120 Months\"):\n",
    "        test[\"lama_di_perusahaan_num\"][i] = 120\n",
    "    if (test[\"lama_di_perusahaan\"][i]==\"24 Months\"):\n",
    "        test[\"lama_di_perusahaan_num\"][i] = 24\n",
    "    if (test[\"lama_di_perusahaan\"][i]==\"36 Months\"):\n",
    "        test[\"lama_di_perusahaan_num\"][i] = 36\n",
    "    if (test[\"lama_di_perusahaan\"][i]==\"48 Months\"):\n",
    "        test[\"lama_di_perusahaan_num\"][i] = 48\n",
    "    if (test[\"lama_di_perusahaan\"][i]==\"60 Months\"):\n",
    "        test[\"lama_di_perusahaan_num\"][i] = 60\n",
    "    if (test[\"lama_di_perusahaan\"][i]==\"72 Months\"):\n",
    "        test[\"lama_di_perusahaan_num\"][i] = 72\n",
    "    if (test[\"lama_di_perusahaan\"][i]==\"84 Months\"):\n",
    "        test[\"lama_di_perusahaan_num\"][i] = 84\n",
    "    if (test[\"lama_di_perusahaan\"][i]==\"96 Months\"):\n",
    "        test[\"lama_di_perusahaan_num\"][i] = 96"
   ]
  },
  {
   "cell_type": "code",
   "execution_count": 134,
   "metadata": {
    "colab": {
     "base_uri": "https://localhost:8080/",
     "height": 277
    },
    "id": "dNuYOWn9Heok",
    "outputId": "3a004c90-faf4-4696-94ba-b44a037da11d"
   },
   "outputs": [
    {
     "data": {
      "text/html": [
       "<div>\n",
       "<style scoped>\n",
       "    .dataframe tbody tr th:only-of-type {\n",
       "        vertical-align: middle;\n",
       "    }\n",
       "\n",
       "    .dataframe tbody tr th {\n",
       "        vertical-align: top;\n",
       "    }\n",
       "\n",
       "    .dataframe thead th {\n",
       "        text-align: right;\n",
       "    }\n",
       "</style>\n",
       "<table border=\"1\" class=\"dataframe\">\n",
       "  <thead>\n",
       "    <tr style=\"text-align: right;\">\n",
       "      <th></th>\n",
       "      <th>employee_id</th>\n",
       "      <th>umur</th>\n",
       "      <th>jenis_kelamin</th>\n",
       "      <th>IPK</th>\n",
       "      <th>level</th>\n",
       "      <th>tahun_lulus</th>\n",
       "      <th>status_perkawinan</th>\n",
       "      <th>divisi</th>\n",
       "      <th>rerata_jam_bulanan</th>\n",
       "      <th>tingkat_kepuasan_bekerja</th>\n",
       "      <th>nilai_evaluasi_terakhir</th>\n",
       "      <th>jumlah_proyek_yang_dikerjakan</th>\n",
       "      <th>lama_di_perusahaan</th>\n",
       "      <th>kecelakaan_kerja</th>\n",
       "      <th>promosi_5thn_lalu</th>\n",
       "      <th>tingkat_gaji</th>\n",
       "      <th>resign</th>\n",
       "      <th>lama_di_perusahaan_num</th>\n",
       "    </tr>\n",
       "  </thead>\n",
       "  <tbody>\n",
       "    <tr>\n",
       "      <th>0</th>\n",
       "      <td>10000</td>\n",
       "      <td>NaN</td>\n",
       "      <td>Laki-laki</td>\n",
       "      <td>1.947303</td>\n",
       "      <td>Junior</td>\n",
       "      <td>NaN</td>\n",
       "      <td>Sudah Menikah</td>\n",
       "      <td>management</td>\n",
       "      <td>210.0</td>\n",
       "      <td>0.82</td>\n",
       "      <td>0.419035</td>\n",
       "      <td>3</td>\n",
       "      <td>3 Years</td>\n",
       "      <td>belum pernah</td>\n",
       "      <td>belum</td>\n",
       "      <td>sedang</td>\n",
       "      <td>0</td>\n",
       "      <td>36.0</td>\n",
       "    </tr>\n",
       "    <tr>\n",
       "      <th>1</th>\n",
       "      <td>10001</td>\n",
       "      <td>NaN</td>\n",
       "      <td>Laki-laki</td>\n",
       "      <td>3.218346</td>\n",
       "      <td>Full-Time</td>\n",
       "      <td>NaN</td>\n",
       "      <td>Belum Menikah</td>\n",
       "      <td>sales</td>\n",
       "      <td>189.0</td>\n",
       "      <td>0.76</td>\n",
       "      <td>0.558254</td>\n",
       "      <td>3</td>\n",
       "      <td>24 Months</td>\n",
       "      <td>belum pernah</td>\n",
       "      <td>belum</td>\n",
       "      <td>rendah</td>\n",
       "      <td>0</td>\n",
       "      <td>24.0</td>\n",
       "    </tr>\n",
       "    <tr>\n",
       "      <th>2</th>\n",
       "      <td>10002</td>\n",
       "      <td>NaN</td>\n",
       "      <td>Laki-laki</td>\n",
       "      <td>2.117364</td>\n",
       "      <td>Senior</td>\n",
       "      <td>NaN</td>\n",
       "      <td>Sudah Menikah</td>\n",
       "      <td>management</td>\n",
       "      <td>NaN</td>\n",
       "      <td>0.81</td>\n",
       "      <td>0.580364</td>\n",
       "      <td>5</td>\n",
       "      <td>2 Years</td>\n",
       "      <td>pernah</td>\n",
       "      <td>belum</td>\n",
       "      <td>tinggi</td>\n",
       "      <td>0</td>\n",
       "      <td>24.0</td>\n",
       "    </tr>\n",
       "    <tr>\n",
       "      <th>3</th>\n",
       "      <td>10003</td>\n",
       "      <td>NaN</td>\n",
       "      <td>Laki-laki</td>\n",
       "      <td>3.178748</td>\n",
       "      <td>Full-Time</td>\n",
       "      <td>NaN</td>\n",
       "      <td>Belum Menikah</td>\n",
       "      <td>sales</td>\n",
       "      <td>121.0</td>\n",
       "      <td>0.84</td>\n",
       "      <td>0.446109</td>\n",
       "      <td>3</td>\n",
       "      <td>36 Months</td>\n",
       "      <td>pernah</td>\n",
       "      <td>belum</td>\n",
       "      <td>rendah</td>\n",
       "      <td>0</td>\n",
       "      <td>36.0</td>\n",
       "    </tr>\n",
       "    <tr>\n",
       "      <th>4</th>\n",
       "      <td>10004</td>\n",
       "      <td>34.0</td>\n",
       "      <td>Laki-laki</td>\n",
       "      <td>2.680535</td>\n",
       "      <td>Part-Time</td>\n",
       "      <td>2008.0</td>\n",
       "      <td>Belum Menikah</td>\n",
       "      <td>technical</td>\n",
       "      <td>229.0</td>\n",
       "      <td>0.48</td>\n",
       "      <td>NaN</td>\n",
       "      <td>3</td>\n",
       "      <td>3 Years</td>\n",
       "      <td>belum pernah</td>\n",
       "      <td>belum</td>\n",
       "      <td>rendah</td>\n",
       "      <td>0</td>\n",
       "      <td>36.0</td>\n",
       "    </tr>\n",
       "  </tbody>\n",
       "</table>\n",
       "</div>"
      ],
      "text/plain": [
       "   employee_id  umur jenis_kelamin  ...  tingkat_gaji resign  lama_di_perusahaan_num\n",
       "0        10000   NaN     Laki-laki  ...        sedang      0                    36.0\n",
       "1        10001   NaN     Laki-laki  ...        rendah      0                    24.0\n",
       "2        10002   NaN     Laki-laki  ...        tinggi      0                    24.0\n",
       "3        10003   NaN     Laki-laki  ...        rendah      0                    36.0\n",
       "4        10004  34.0     Laki-laki  ...        rendah      0                    36.0\n",
       "\n",
       "[5 rows x 18 columns]"
      ]
     },
     "execution_count": 134,
     "metadata": {
      "tags": []
     },
     "output_type": "execute_result"
    }
   ],
   "source": [
    "train.head()"
   ]
  },
  {
   "cell_type": "code",
   "execution_count": 135,
   "metadata": {
    "colab": {
     "base_uri": "https://localhost:8080/"
    },
    "id": "Cjb2ok8uHjcQ",
    "outputId": "98df7a37-d807-4617-c238-85fcf07388e5"
   },
   "outputs": [
    {
     "data": {
      "text/plain": [
       "employee_id                        int64\n",
       "umur                             float64\n",
       "jenis_kelamin                     object\n",
       "IPK                              float64\n",
       "level                             object\n",
       "tahun_lulus                      float64\n",
       "status_perkawinan                 object\n",
       "divisi                            object\n",
       "rerata_jam_bulanan               float64\n",
       "tingkat_kepuasan_bekerja         float64\n",
       "nilai_evaluasi_terakhir          float64\n",
       "jumlah_proyek_yang_dikerjakan      int64\n",
       "lama_di_perusahaan                object\n",
       "kecelakaan_kerja                  object\n",
       "promosi_5thn_lalu                 object\n",
       "tingkat_gaji                      object\n",
       "resign                             int64\n",
       "lama_di_perusahaan_num           float64\n",
       "dtype: object"
      ]
     },
     "execution_count": 135,
     "metadata": {
      "tags": []
     },
     "output_type": "execute_result"
    }
   ],
   "source": [
    "train.dtypes"
   ]
  },
  {
   "cell_type": "code",
   "execution_count": 136,
   "metadata": {
    "colab": {
     "base_uri": "https://localhost:8080/"
    },
    "id": "uSXvLWL1Hs6r",
    "outputId": "63d0c56b-7d31-4202-ca57-b0d9f1f5f208"
   },
   "outputs": [
    {
     "data": {
      "text/plain": [
       "Index(['employee_id', 'umur', 'jenis_kelamin', 'IPK', 'level', 'tahun_lulus',\n",
       "       'status_perkawinan', 'divisi', 'rerata_jam_bulanan',\n",
       "       'tingkat_kepuasan_bekerja', 'nilai_evaluasi_terakhir',\n",
       "       'jumlah_proyek_yang_dikerjakan', 'lama_di_perusahaan',\n",
       "       'kecelakaan_kerja', 'promosi_5thn_lalu', 'tingkat_gaji', 'resign',\n",
       "       'lama_di_perusahaan_num'],\n",
       "      dtype='object')"
      ]
     },
     "execution_count": 136,
     "metadata": {
      "tags": []
     },
     "output_type": "execute_result"
    }
   ],
   "source": [
    "train.columns"
   ]
  },
  {
   "cell_type": "markdown",
   "metadata": {
    "id": "MsHeYbwb6KLD"
   },
   "source": [
    "# **Data Exploration**"
   ]
  },
  {
   "cell_type": "markdown",
   "metadata": {
    "id": "_I_8-d9j17iA"
   },
   "source": [
    "Keseluruhan"
   ]
  },
  {
   "cell_type": "code",
   "execution_count": 137,
   "metadata": {
    "colab": {
     "base_uri": "https://localhost:8080/"
    },
    "id": "sYUCkqIB55eo",
    "outputId": "f8269e3e-193f-47a8-85d0-6537f877f659"
   },
   "outputs": [
    {
     "name": "stdout",
     "output_type": "stream",
     "text": [
      "       umur  lama_di_perusahaan_num\n",
      "0       NaN                    36.0\n",
      "1       NaN                    24.0\n",
      "2       NaN                    24.0\n",
      "3       NaN                    36.0\n",
      "4      34.0                    36.0\n",
      "...     ...                     ...\n",
      "10044   NaN                    48.0\n",
      "10045   NaN                    24.0\n",
      "10046   NaN                    36.0\n",
      "10047   NaN                    36.0\n",
      "10048   NaN                    96.0\n",
      "\n",
      "[10049 rows x 2 columns]\n"
     ]
    }
   ],
   "source": [
    "df1 = train[['umur','lama_di_perusahaan_num']]\n",
    "print(df1)"
   ]
  },
  {
   "cell_type": "code",
   "execution_count": 138,
   "metadata": {
    "colab": {
     "base_uri": "https://localhost:8080/"
    },
    "id": "BPMilN9MIeKs",
    "outputId": "337212d6-3042-44fb-cad5-2cdecc6c05ed"
   },
   "outputs": [
    {
     "name": "stdout",
     "output_type": "stream",
     "text": [
      "       umur  lama_di_perusahaan_num\n",
      "1185   23.0                   120.0\n",
      "1322   22.0                   120.0\n",
      "2304   21.0                   120.0\n",
      "3242   28.0                   120.0\n",
      "3950   24.0                   120.0\n",
      "4643   29.0                   120.0\n",
      "5008   20.0                   120.0\n",
      "5500   26.0                   120.0\n",
      "6116   25.0                   120.0\n",
      "6427   26.0                   120.0\n",
      "6808   24.0                   120.0\n",
      "7102   26.0                   120.0\n",
      "7111   26.0                   120.0\n",
      "8912   25.0                   120.0\n",
      "9139   24.0                   120.0\n",
      "9227   25.0                   120.0\n",
      "9509   22.0                   120.0\n",
      "10015  26.0                   120.0\n"
     ]
    }
   ],
   "source": [
    "print(df1.loc[(df1['lama_di_perusahaan_num'] == 120) & (df1['umur'] < 30)])"
   ]
  },
  {
   "cell_type": "code",
   "execution_count": 139,
   "metadata": {
    "colab": {
     "base_uri": "https://localhost:8080/"
    },
    "id": "zyZAIvEqJZHv",
    "outputId": "2ad14db8-8b7d-44e9-8561-12c3cb4ec592"
   },
   "outputs": [
    {
     "name": "stdout",
     "output_type": "stream",
     "text": [
      "       tahun_lulus  lama_di_perusahaan_num\n",
      "0              NaN                    36.0\n",
      "1              NaN                    24.0\n",
      "2              NaN                    24.0\n",
      "3              NaN                    36.0\n",
      "4           2008.0                    36.0\n",
      "...            ...                     ...\n",
      "10044          NaN                    48.0\n",
      "10045          NaN                    24.0\n",
      "10046          NaN                    36.0\n",
      "10047          NaN                    36.0\n",
      "10048          NaN                    96.0\n",
      "\n",
      "[10049 rows x 2 columns]\n"
     ]
    }
   ],
   "source": [
    "# Mengecek validitas umur dari lama kerja\n",
    "df2 = train[['tahun_lulus','lama_di_perusahaan_num']]\n",
    "print(df2)"
   ]
  },
  {
   "cell_type": "code",
   "execution_count": 140,
   "metadata": {
    "colab": {
     "base_uri": "https://localhost:8080/"
    },
    "id": "H5demFQmJhqd",
    "outputId": "cf4dabe8-fbd4-4558-be52-60d52ae10258"
   },
   "outputs": [
    {
     "name": "stdout",
     "output_type": "stream",
     "text": [
      "       tahun_lulus  lama_di_perusahaan_num\n",
      "1000        2011.0                   120.0\n",
      "1185        2019.0                   120.0\n",
      "1322        2018.0                   120.0\n",
      "2158        2012.0                   120.0\n",
      "2304        2020.0                   120.0\n",
      "3242        2014.0                   120.0\n",
      "3950        2019.0                   120.0\n",
      "4643        2014.0                   120.0\n",
      "5008        2020.0                   120.0\n",
      "5500        2016.0                   120.0\n",
      "6116        2016.0                   120.0\n",
      "6427        2016.0                   120.0\n",
      "6808        2018.0                   120.0\n",
      "7102        2017.0                   120.0\n",
      "7111        2015.0                   120.0\n",
      "8456        2012.0                   120.0\n",
      "8912        2016.0                   120.0\n",
      "9139        2018.0                   120.0\n",
      "9227        2016.0                   120.0\n",
      "9509        2019.0                   120.0\n",
      "10015       2015.0                   120.0\n"
     ]
    }
   ],
   "source": [
    "print(df2.loc[(df2['lama_di_perusahaan_num'] == 120) & (df2['tahun_lulus'] > 2010)])"
   ]
  },
  {
   "cell_type": "code",
   "execution_count": 141,
   "metadata": {
    "colab": {
     "base_uri": "https://localhost:8080/",
     "height": 615
    },
    "id": "Hl63Z_KPJ8xd",
    "outputId": "399c6a77-916b-493c-d139-2c10abf1595a"
   },
   "outputs": [
    {
     "data": {
      "text/plain": [
       "<matplotlib.axes._subplots.AxesSubplot at 0x7f35f9a65810>"
      ]
     },
     "execution_count": 141,
     "metadata": {
      "tags": []
     },
     "output_type": "execute_result"
    },
    {
     "data": {
      "image/png": "[encoded data removed]",
      "text/plain": [
       "<Figure size 720x720 with 2 Axes>"
      ]
     },
     "metadata": {
      "tags": []
     },
     "output_type": "display_data"
    }
   ],
   "source": [
    "#Mengecek multikolinearitas umur, tahun lulus, lama di perusahaan\n",
    "df3 = train[['umur','tahun_lulus','lama_di_perusahaan_num']]\n",
    "corr_df3 = df3.corr(method  = 'pearson')\n",
    "mask = np.array(corr_df3)\n",
    "mask[np.tril_indices_from(mask)] = False\n",
    "fig = plt.figure(figsize = (10,10))\n",
    "ax = fig.add_subplot(111)\n",
    "sns.heatmap(corr_df3, mask = mask, vmax=.8, square=True, annot=True, ax=ax)"
   ]
  },
  {
   "cell_type": "code",
   "execution_count": 142,
   "metadata": {
    "colab": {
     "base_uri": "https://localhost:8080/",
     "height": 143
    },
    "id": "UoJNQBShLp6M",
    "outputId": "697d75fb-2d96-482f-e660-1434274b4ca8"
   },
   "outputs": [
    {
     "data": {
      "text/html": [
       "<div>\n",
       "<style scoped>\n",
       "    .dataframe tbody tr th:only-of-type {\n",
       "        vertical-align: middle;\n",
       "    }\n",
       "\n",
       "    .dataframe tbody tr th {\n",
       "        vertical-align: top;\n",
       "    }\n",
       "\n",
       "    .dataframe thead th {\n",
       "        text-align: right;\n",
       "    }\n",
       "</style>\n",
       "<table border=\"1\" class=\"dataframe\">\n",
       "  <thead>\n",
       "    <tr style=\"text-align: right;\">\n",
       "      <th></th>\n",
       "      <th>umur</th>\n",
       "      <th>tahun_lulus</th>\n",
       "      <th>lama_di_perusahaan_num</th>\n",
       "    </tr>\n",
       "  </thead>\n",
       "  <tbody>\n",
       "    <tr>\n",
       "      <th>umur</th>\n",
       "      <td>1.000000</td>\n",
       "      <td>-0.993589</td>\n",
       "      <td>-0.013734</td>\n",
       "    </tr>\n",
       "    <tr>\n",
       "      <th>tahun_lulus</th>\n",
       "      <td>-0.993589</td>\n",
       "      <td>1.000000</td>\n",
       "      <td>0.015372</td>\n",
       "    </tr>\n",
       "    <tr>\n",
       "      <th>lama_di_perusahaan_num</th>\n",
       "      <td>-0.013734</td>\n",
       "      <td>0.015372</td>\n",
       "      <td>1.000000</td>\n",
       "    </tr>\n",
       "  </tbody>\n",
       "</table>\n",
       "</div>"
      ],
      "text/plain": [
       "                            umur  tahun_lulus  lama_di_perusahaan_num\n",
       "umur                    1.000000    -0.993589               -0.013734\n",
       "tahun_lulus            -0.993589     1.000000                0.015372\n",
       "lama_di_perusahaan_num -0.013734     0.015372                1.000000"
      ]
     },
     "execution_count": 142,
     "metadata": {
      "tags": []
     },
     "output_type": "execute_result"
    }
   ],
   "source": [
    "df3.corr(method  = 'pearson')"
   ]
  },
  {
   "cell_type": "code",
   "execution_count": 143,
   "metadata": {
    "id": "CURtTQRGLyxo"
   },
   "outputs": [],
   "source": [
    "#Menghapus kolom umur, tahun lulus, lama di perusahaan - train\n",
    "#Umur dihapus dan tahun lulus dihapus karena tidak valid\n",
    "#Lama di perusahaan dihapus karena sudah diganti menjadi numerik\n",
    "trainrev = train.drop(columns = ['umur','tahun_lulus','lama_di_perusahaan'])"
   ]
  },
  {
   "cell_type": "code",
   "execution_count": 144,
   "metadata": {
    "id": "0LprzfZDUCG_"
   },
   "outputs": [],
   "source": [
    "#Menghapus kolom umur, tahun lulus, lama di perusahaan - test\n",
    "#Umur dihapus dan tahun lulus dihapus karena tidak valid\n",
    "#Lama di perusahaan dihapus karena sudah diganti menjadi numerik\n",
    "testrev = test.drop(columns =['umur','tahun_lulus','lama_di_perusahaan'] )"
   ]
  },
  {
   "cell_type": "code",
   "execution_count": 145,
   "metadata": {
    "colab": {
     "base_uri": "https://localhost:8080/",
     "height": 277
    },
    "id": "bh4M8bd2MhkL",
    "outputId": "7afb23e2-4216-4ec9-d141-975566877630"
   },
   "outputs": [
    {
     "data": {
      "text/html": [
       "<div>\n",
       "<style scoped>\n",
       "    .dataframe tbody tr th:only-of-type {\n",
       "        vertical-align: middle;\n",
       "    }\n",
       "\n",
       "    .dataframe tbody tr th {\n",
       "        vertical-align: top;\n",
       "    }\n",
       "\n",
       "    .dataframe thead th {\n",
       "        text-align: right;\n",
       "    }\n",
       "</style>\n",
       "<table border=\"1\" class=\"dataframe\">\n",
       "  <thead>\n",
       "    <tr style=\"text-align: right;\">\n",
       "      <th></th>\n",
       "      <th>employee_id</th>\n",
       "      <th>jenis_kelamin</th>\n",
       "      <th>IPK</th>\n",
       "      <th>level</th>\n",
       "      <th>status_perkawinan</th>\n",
       "      <th>divisi</th>\n",
       "      <th>rerata_jam_bulanan</th>\n",
       "      <th>tingkat_kepuasan_bekerja</th>\n",
       "      <th>nilai_evaluasi_terakhir</th>\n",
       "      <th>jumlah_proyek_yang_dikerjakan</th>\n",
       "      <th>kecelakaan_kerja</th>\n",
       "      <th>promosi_5thn_lalu</th>\n",
       "      <th>tingkat_gaji</th>\n",
       "      <th>resign</th>\n",
       "      <th>lama_di_perusahaan_num</th>\n",
       "    </tr>\n",
       "  </thead>\n",
       "  <tbody>\n",
       "    <tr>\n",
       "      <th>0</th>\n",
       "      <td>10000</td>\n",
       "      <td>Laki-laki</td>\n",
       "      <td>1.947303</td>\n",
       "      <td>Junior</td>\n",
       "      <td>Sudah Menikah</td>\n",
       "      <td>management</td>\n",
       "      <td>210.0</td>\n",
       "      <td>0.82</td>\n",
       "      <td>0.419035</td>\n",
       "      <td>3</td>\n",
       "      <td>belum pernah</td>\n",
       "      <td>belum</td>\n",
       "      <td>sedang</td>\n",
       "      <td>0</td>\n",
       "      <td>36.0</td>\n",
       "    </tr>\n",
       "    <tr>\n",
       "      <th>1</th>\n",
       "      <td>10001</td>\n",
       "      <td>Laki-laki</td>\n",
       "      <td>3.218346</td>\n",
       "      <td>Full-Time</td>\n",
       "      <td>Belum Menikah</td>\n",
       "      <td>sales</td>\n",
       "      <td>189.0</td>\n",
       "      <td>0.76</td>\n",
       "      <td>0.558254</td>\n",
       "      <td>3</td>\n",
       "      <td>belum pernah</td>\n",
       "      <td>belum</td>\n",
       "      <td>rendah</td>\n",
       "      <td>0</td>\n",
       "      <td>24.0</td>\n",
       "    </tr>\n",
       "    <tr>\n",
       "      <th>2</th>\n",
       "      <td>10002</td>\n",
       "      <td>Laki-laki</td>\n",
       "      <td>2.117364</td>\n",
       "      <td>Senior</td>\n",
       "      <td>Sudah Menikah</td>\n",
       "      <td>management</td>\n",
       "      <td>NaN</td>\n",
       "      <td>0.81</td>\n",
       "      <td>0.580364</td>\n",
       "      <td>5</td>\n",
       "      <td>pernah</td>\n",
       "      <td>belum</td>\n",
       "      <td>tinggi</td>\n",
       "      <td>0</td>\n",
       "      <td>24.0</td>\n",
       "    </tr>\n",
       "    <tr>\n",
       "      <th>3</th>\n",
       "      <td>10003</td>\n",
       "      <td>Laki-laki</td>\n",
       "      <td>3.178748</td>\n",
       "      <td>Full-Time</td>\n",
       "      <td>Belum Menikah</td>\n",
       "      <td>sales</td>\n",
       "      <td>121.0</td>\n",
       "      <td>0.84</td>\n",
       "      <td>0.446109</td>\n",
       "      <td>3</td>\n",
       "      <td>pernah</td>\n",
       "      <td>belum</td>\n",
       "      <td>rendah</td>\n",
       "      <td>0</td>\n",
       "      <td>36.0</td>\n",
       "    </tr>\n",
       "    <tr>\n",
       "      <th>4</th>\n",
       "      <td>10004</td>\n",
       "      <td>Laki-laki</td>\n",
       "      <td>2.680535</td>\n",
       "      <td>Part-Time</td>\n",
       "      <td>Belum Menikah</td>\n",
       "      <td>technical</td>\n",
       "      <td>229.0</td>\n",
       "      <td>0.48</td>\n",
       "      <td>NaN</td>\n",
       "      <td>3</td>\n",
       "      <td>belum pernah</td>\n",
       "      <td>belum</td>\n",
       "      <td>rendah</td>\n",
       "      <td>0</td>\n",
       "      <td>36.0</td>\n",
       "    </tr>\n",
       "  </tbody>\n",
       "</table>\n",
       "</div>"
      ],
      "text/plain": [
       "   employee_id jenis_kelamin  ...  resign lama_di_perusahaan_num\n",
       "0        10000     Laki-laki  ...       0                   36.0\n",
       "1        10001     Laki-laki  ...       0                   24.0\n",
       "2        10002     Laki-laki  ...       0                   24.0\n",
       "3        10003     Laki-laki  ...       0                   36.0\n",
       "4        10004     Laki-laki  ...       0                   36.0\n",
       "\n",
       "[5 rows x 15 columns]"
      ]
     },
     "execution_count": 145,
     "metadata": {
      "tags": []
     },
     "output_type": "execute_result"
    }
   ],
   "source": [
    "trainrev.head()"
   ]
  },
  {
   "cell_type": "code",
   "execution_count": 146,
   "metadata": {
    "colab": {
     "base_uri": "https://localhost:8080/"
    },
    "id": "5u8lO0Q-68Ne",
    "outputId": "cf0a4d25-f0dc-4812-e061-f62f7c802aac"
   },
   "outputs": [
    {
     "data": {
      "text/plain": [
       "(10049,)"
      ]
     },
     "execution_count": 146,
     "metadata": {
      "tags": []
     },
     "output_type": "execute_result"
    }
   ],
   "source": [
    "trainrev['lama_di_perusahaan_num'].shape"
   ]
  },
  {
   "cell_type": "code",
   "execution_count": 147,
   "metadata": {
    "colab": {
     "base_uri": "https://localhost:8080/",
     "height": 833
    },
    "id": "6BnLo2fKMu_U",
    "outputId": "c5ddc865-827a-4b07-82ca-45a4bad9860c"
   },
   "outputs": [
    {
     "data": {
      "text/plain": [
       "<matplotlib.axes._subplots.AxesSubplot at 0x7f35f01cadd0>"
      ]
     },
     "execution_count": 147,
     "metadata": {
      "tags": []
     },
     "output_type": "execute_result"
    },
    {
     "data": {
      "image/png": "[encoded data removed]",
      "text/plain": [
       "<Figure size 864x864 with 2 Axes>"
      ]
     },
     "metadata": {
      "tags": []
     },
     "output_type": "display_data"
    }
   ],
   "source": [
    "#Mengecek multikolinearitas variabel metrik\n",
    "corr_columns = ['IPK','rerata_jam_bulanan','tingkat_kepuasan_bekerja','nilai_evaluasi_terakhir','jumlah_proyek_yang_dikerjakan','lama_di_perusahaan_num']\n",
    "corr_trainrev = trainrev[corr_columns].corr(method  = 'pearson')\n",
    "mask = np.array(corr_trainrev)\n",
    "mask[np.tril_indices_from(mask)] = False\n",
    "fig = plt.figure(figsize = (12,12))\n",
    "ax = fig.add_subplot(111)\n",
    "sns.heatmap(corr_trainrev, mask = mask, vmax=.8, square=True, annot=True, ax=ax)"
   ]
  },
  {
   "cell_type": "code",
   "execution_count": 148,
   "metadata": {
    "colab": {
     "base_uri": "https://localhost:8080/"
    },
    "id": "b7qBdRIZN716",
    "outputId": "a53b599c-7727-4b8a-e629-62b5878b273d"
   },
   "outputs": [
    {
     "data": {
      "text/plain": [
       "0    0.761966\n",
       "1    0.238034\n",
       "Name: resign, dtype: float64"
      ]
     },
     "execution_count": 148,
     "metadata": {
      "tags": []
     },
     "output_type": "execute_result"
    }
   ],
   "source": [
    "#Resign rate keseluruhan\n",
    "resign_rate = trainrev.resign.value_counts() / len(trainrev)\n",
    "resign_rate"
   ]
  },
  {
   "cell_type": "code",
   "execution_count": 149,
   "metadata": {
    "colab": {
     "base_uri": "https://localhost:8080/",
     "height": 143
    },
    "id": "ftaefCnoNx48",
    "outputId": "c21b082c-cb0e-403e-ae75-6fc876534cc3"
   },
   "outputs": [
    {
     "data": {
      "text/html": [
       "<div>\n",
       "<style scoped>\n",
       "    .dataframe tbody tr th:only-of-type {\n",
       "        vertical-align: middle;\n",
       "    }\n",
       "\n",
       "    .dataframe tbody tr th {\n",
       "        vertical-align: top;\n",
       "    }\n",
       "\n",
       "    .dataframe thead th {\n",
       "        text-align: right;\n",
       "    }\n",
       "</style>\n",
       "<table border=\"1\" class=\"dataframe\">\n",
       "  <thead>\n",
       "    <tr style=\"text-align: right;\">\n",
       "      <th></th>\n",
       "      <th>IPK</th>\n",
       "      <th>rerata_jam_bulanan</th>\n",
       "      <th>tingkat_kepuasan_bekerja</th>\n",
       "      <th>nilai_evaluasi_terakhir</th>\n",
       "      <th>jumlah_proyek_yang_dikerjakan</th>\n",
       "      <th>lama_di_perusahaan_num</th>\n",
       "    </tr>\n",
       "    <tr>\n",
       "      <th>resign</th>\n",
       "      <th></th>\n",
       "      <th></th>\n",
       "      <th></th>\n",
       "      <th></th>\n",
       "      <th></th>\n",
       "      <th></th>\n",
       "    </tr>\n",
       "  </thead>\n",
       "  <tbody>\n",
       "    <tr>\n",
       "      <th>0</th>\n",
       "      <td>2.390667</td>\n",
       "      <td>201.639777</td>\n",
       "      <td>0.663850</td>\n",
       "      <td>0.457113</td>\n",
       "      <td>3.788951</td>\n",
       "      <td>40.674938</td>\n",
       "    </tr>\n",
       "    <tr>\n",
       "      <th>1</th>\n",
       "      <td>2.413748</td>\n",
       "      <td>207.283849</td>\n",
       "      <td>0.446072</td>\n",
       "      <td>0.451849</td>\n",
       "      <td>3.825669</td>\n",
       "      <td>46.439799</td>\n",
       "    </tr>\n",
       "  </tbody>\n",
       "</table>\n",
       "</div>"
      ],
      "text/plain": [
       "             IPK  ...  lama_di_perusahaan_num\n",
       "resign            ...                        \n",
       "0       2.390667  ...               40.674938\n",
       "1       2.413748  ...               46.439799\n",
       "\n",
       "[2 rows x 6 columns]"
      ]
     },
     "execution_count": 149,
     "metadata": {
      "tags": []
     },
     "output_type": "execute_result"
    }
   ],
   "source": [
    "#Rata-rata variabel metrik menurut keterangan resign\n",
    "summ_columns = ['IPK','rerata_jam_bulanan','tingkat_kepuasan_bekerja','nilai_evaluasi_terakhir','jumlah_proyek_yang_dikerjakan','lama_di_perusahaan_num','resign']\n",
    "resign_summ = trainrev[summ_columns].groupby('resign')\n",
    "resign_summ.mean()"
   ]
  },
  {
   "cell_type": "code",
   "execution_count": 150,
   "metadata": {
    "colab": {
     "base_uri": "https://localhost:8080/",
     "height": 901
    },
    "id": "s6kpzb9VZRTv",
    "outputId": "da709956-df42-4ef1-94e7-5e1fb962ac5f"
   },
   "outputs": [
    {
     "data": {
      "text/plain": [
       "<matplotlib.axes._subplots.AxesSubplot at 0x7f35e9d572d0>"
      ]
     },
     "execution_count": 150,
     "metadata": {
      "tags": []
     },
     "output_type": "execute_result"
    },
    {
     "data": {
      "image/png": "[encoded data removed]",
      "text/plain": [
       "<Figure size 1080x1080 with 6 Axes>"
      ]
     },
     "metadata": {
      "tags": []
     },
     "output_type": "display_data"
    }
   ],
   "source": [
    "#Boxplot metrik\n",
    "fig, axes = plt.subplots(nrows=2, ncols=3, figsize=(15, 15))\n",
    "sns.boxplot(x='resign', y='IPK', hue='resign', data=trainrev, ax=axes[0,0])\n",
    "sns.boxplot(x='resign', y='rerata_jam_bulanan', hue='resign', data=trainrev, ax=axes[0,1])\n",
    "sns.boxplot(x='resign', y='tingkat_kepuasan_bekerja', hue='resign', data=trainrev, ax=axes[0,2])\n",
    "sns.boxplot(x='resign', y='nilai_evaluasi_terakhir', hue='resign', data=trainrev, ax=axes[1,0])\n",
    "sns.boxplot(x='resign', y='jumlah_proyek_yang_dikerjakan', hue='resign', data=trainrev, ax=axes[1,1])\n",
    "sns.boxplot(x='resign', y='lama_di_perusahaan_num', hue='resign', data=trainrev, ax=axes[1,2])"
   ]
  },
  {
   "cell_type": "markdown",
   "metadata": {
    "id": "j5eQnlXx7CM4"
   },
   "source": [
    "Eksplorasi Data Numerikal"
   ]
  },
  {
   "cell_type": "code",
   "execution_count": 151,
   "metadata": {
    "colab": {
     "base_uri": "https://localhost:8080/",
     "height": 725
    },
    "id": "6dmYV1qLYLmD",
    "outputId": "475ea16a-5d97-4653-9037-d07ddc292e85"
   },
   "outputs": [
    {
     "data": {
      "image/png": "[encoded data removed]",
      "text/plain": [
       "<Figure size 720x720 with 6 Axes>"
      ]
     },
     "metadata": {
      "tags": []
     },
     "output_type": "display_data"
    }
   ],
   "source": [
    "#Histogram variabel metrik keseluruhan\n",
    "fig = plt.figure(figsize=(10,10))\n",
    "\n",
    "ax1 = fig.add_subplot(321)\n",
    "ax2 = fig.add_subplot(322)\n",
    "ax3 = fig.add_subplot(323)\n",
    "ax4 = fig.add_subplot(324)\n",
    "ax5 = fig.add_subplot(325)\n",
    "ax6 = fig.add_subplot(326)\n",
    "\n",
    "trainrev['IPK'].plot(kind='hist', ax=ax1, color = '#FF0000')\n",
    "trainrev['rerata_jam_bulanan'].plot(kind='hist', ax=ax2, color = '#00FFFF')\n",
    "trainrev['nilai_evaluasi_terakhir'].plot(kind='hist', ax=ax3, color = '#0000FF')\n",
    "trainrev['tingkat_kepuasan_bekerja'].plot(kind='hist', ax=ax4, color = '#ADD8E6')\n",
    "trainrev['jumlah_proyek_yang_dikerjakan'].plot(kind='hist', ax=ax5, color = '#FFFF00')\n",
    "trainrev['lama_di_perusahaan_num'].plot(kind='hist', ax=ax6, color = '#FFC0CB')\n",
    "\n",
    "ax1.set_title('IPK Distribution', fontdict={'fontsize': '10'}, pad = 10)\n",
    "ax2.set_title('rerata_jam_bulanan Distribution', fontdict={'fontsize': '10'}, pad = 10)\n",
    "ax3.set_title('nilai_evaluasi_terakhir Distribution', fontdict={'fontsize': '10'}, pad = 10)\n",
    "ax4.set_title('tingkat_kepuasan_bekerja Distribution', fontdict={'fontsize': '10'}, pad = 10)\n",
    "ax5.set_title('jumlah_proyek_yang_dikerjakan Distribution', fontdict={'fontsize': '10'}, pad = 10)\n",
    "ax6.set_title('lama_di_perusahaan_num_Distribution', fontdict={'fontsize': '10'}, pad = 10)\n",
    "\n",
    "fig.tight_layout()"
   ]
  },
  {
   "cell_type": "code",
   "execution_count": 152,
   "metadata": {
    "colab": {
     "base_uri": "https://localhost:8080/"
    },
    "id": "8KgPMyCqdP8n",
    "outputId": "c615b46b-6882-4e83-b666-2cb59bd5f41b"
   },
   "outputs": [
    {
     "name": "stdout",
     "output_type": "stream",
     "text": [
      "IPK NormaltestResult(statistic=648.3365337132037, pvalue=1.6425193556328638e-141)\n",
      "rerata_jam_bulanan NormaltestResult(statistic=nan, pvalue=nan)\n",
      "tingkat_kepuasan_bekerja NormaltestResult(statistic=nan, pvalue=nan)\n",
      "nilai_evaluasi_terakhir NormaltestResult(statistic=nan, pvalue=nan)\n",
      "jumlah_proyek_yang_dikerjakan NormaltestResult(statistic=350.25669390917955, pvalue=8.764462613100457e-77)\n",
      "lama_di_perusahaan_num NormaltestResult(statistic=3806.5835510854095, pvalue=0.0)\n"
     ]
    }
   ],
   "source": [
    "#Uji normalitas variabel metrik\n",
    "def normaltest(x):\n",
    "  b = stats.normaltest(x)\n",
    "  return b\n",
    "\n",
    "normal = ['IPK','rerata_jam_bulanan','tingkat_kepuasan_bekerja','nilai_evaluasi_terakhir','jumlah_proyek_yang_dikerjakan','lama_di_perusahaan_num']\n",
    "\n",
    "for i in range(len(normal)):\n",
    "  print(normal[i],normaltest(trainrev[normal[i]]))"
   ]
  },
  {
   "cell_type": "code",
   "execution_count": 153,
   "metadata": {
    "colab": {
     "base_uri": "https://localhost:8080/",
     "height": 955
    },
    "id": "9_49iSMj92OE",
    "outputId": "6a5b0cfd-493b-4a05-89b3-7145ed141bc5"
   },
   "outputs": [
    {
     "name": "stderr",
     "output_type": "stream",
     "text": [
      "/usr/local/lib/python3.7/dist-packages/seaborn/distributions.py:2557: FutureWarning: `distplot` is a deprecated function and will be removed in a future version. Please adapt your code to use either `displot` (a figure-level function with similar flexibility) or `histplot` (an axes-level function for histograms).\n",
      "  warnings.warn(msg, FutureWarning)\n"
     ]
    },
    {
     "data": {
      "image/png": "[encoded data removed]",
      "text/plain": [
       "<Figure size 1080x1080 with 6 Axes>"
      ]
     },
     "metadata": {
      "tags": []
     },
     "output_type": "display_data"
    }
   ],
   "source": [
    "#Histogram variabel metrik keseluruhan\n",
    "f, axes = plt.subplots(nrows = 2, ncols=3, figsize=(15, 15))\n",
    "\n",
    "sns.distplot(trainrev['tingkat_kepuasan_bekerja'], kde=False, color=\"g\", ax=axes[0,0]).set_title('Tingkat Kepuasan Bekerja')\n",
    "axes[0,0].set_ylabel('Jumlah Pekerja')\n",
    "\n",
    "sns.distplot(trainrev['nilai_evaluasi_terakhir'], kde=False, color=\"r\", ax=axes[0,1]).set_title('Nilai Evaluasi Terakhir')\n",
    "axes[0,1].set_ylabel('Jumlah Pekerja')\n",
    "\n",
    "sns.distplot(trainrev['rerata_jam_bulanan'], kde=False, color=\"b\", ax=axes[0,2]).set_title('Rerata Jam Bulanan')\n",
    "axes[0,2].set_ylabel('Jumlah Pekerja')\n",
    "\n",
    "sns.distplot(trainrev['IPK'], kde=False, color=\"y\", ax=axes[1,0]).set_title('IPK')\n",
    "axes[1,0].set_ylabel('Jumlah Pekerja')\n",
    "\n",
    "sns.distplot(trainrev['jumlah_proyek_yang_dikerjakan'], kde=False, color=\"black\", ax=axes[1,1]).set_title('Jumlah Proyek Dikerjakan')\n",
    "axes[1,1].set_ylabel('Jumlah Pekerja')\n",
    "\n",
    "sns.distplot(trainrev['lama_di_perusahaan_num'], kde=False, color=\"orange\", ax=axes[1,2]).set_title('Lama di Perusahaan')\n",
    "axes[1,2].set_ylabel('Jumlah Pekerja')\n",
    "\n",
    "fig.tight_layout()"
   ]
  },
  {
   "cell_type": "code",
   "execution_count": 154,
   "metadata": {
    "colab": {
     "base_uri": "https://localhost:8080/"
    },
    "id": "6qXX16fN_ko2",
    "outputId": "27ea28f0-c9d8-40c8-9f5b-f37c8b0c32ed"
   },
   "outputs": [
    {
     "data": {
      "text/plain": [
       "Index(['employee_id', 'jenis_kelamin', 'IPK', 'level', 'status_perkawinan',\n",
       "       'divisi', 'rerata_jam_bulanan', 'tingkat_kepuasan_bekerja',\n",
       "       'nilai_evaluasi_terakhir', 'jumlah_proyek_yang_dikerjakan',\n",
       "       'kecelakaan_kerja', 'promosi_5thn_lalu', 'tingkat_gaji', 'resign',\n",
       "       'lama_di_perusahaan_num'],\n",
       "      dtype='object')"
      ]
     },
     "execution_count": 154,
     "metadata": {
      "tags": []
     },
     "output_type": "execute_result"
    }
   ],
   "source": [
    "trainrev.columns"
   ]
  },
  {
   "cell_type": "code",
   "execution_count": 155,
   "metadata": {
    "id": "s5oJSbXftkSe"
   },
   "outputs": [],
   "source": [
    "df7 = trainrev"
   ]
  },
  {
   "cell_type": "code",
   "execution_count": 156,
   "metadata": {
    "colab": {
     "base_uri": "https://localhost:8080/",
     "height": 869
    },
    "id": "t7j6qg_axWwe",
    "outputId": "999211f2-11cb-4e1a-d9a0-6eab619c1597"
   },
   "outputs": [
    {
     "data": {
      "image/png": "[encoded data removed]",
      "text/plain": [
       "<Figure size 864x864 with 9 Axes>"
      ]
     },
     "metadata": {
      "tags": []
     },
     "output_type": "display_data"
    }
   ],
   "source": [
    "#Stacked barplot variabel kategorikal berdasarkan keterangan resign\n",
    "fig, axes = plt.subplots(nrows=3, ncols=3, figsize=(12, 12))\n",
    "\n",
    "count1 = df7.groupby('tingkat_gaji')['resign'].count().reset_index()\n",
    "count2 = df7.groupby('jenis_kelamin')['resign'].count().reset_index()\n",
    "count3 = df7.groupby('level')['resign'].count().reset_index()\n",
    "count4 = df7.groupby('status_perkawinan')['resign'].count().reset_index()\n",
    "count5 = df7.groupby('divisi')['resign'].count().reset_index()\n",
    "count6 = df7.groupby('kecelakaan_kerja')['resign'].count().reset_index()\n",
    "count7 = df7.groupby('promosi_5thn_lalu')['resign'].count().reset_index()\n",
    "\n",
    "resign = df7[df7['resign'] == 1]\n",
    "\n",
    "p1 = sns.barplot(x='tingkat_gaji',  y='resign', data=count1, color='darkblue', ax=axes[0,0])\n",
    "p1 = sns.barplot(x='tingkat_gaji', y='resign', data=resign, estimator = sum, ci = None, color='lightblue', ax=axes[0,0])\n",
    "\n",
    "sns.barplot(x='jenis_kelamin',  y='resign', data=count2, color='darkblue', ax=axes[0,1])\n",
    "sns.barplot(x='jenis_kelamin', y='resign', data=resign, estimator = sum, ci = None, color='lightblue', ax=axes[0,1])\n",
    "\n",
    "sns.barplot(y='level',  x='resign', data=count3, color='darkblue', ax=axes[0,2])\n",
    "sns.barplot(y='level', x='resign', data=resign, estimator = sum, ci = None, color='lightblue', ax=axes[0,2])\n",
    "\n",
    "sns.barplot(x='status_perkawinan',  y='resign', data=count4, color='darkblue', ax=axes[1,0])\n",
    "sns.barplot(x='status_perkawinan', y='resign', data=resign, estimator = sum, ci = None, color='lightblue', ax=axes[1,0])\n",
    "\n",
    "sns.barplot(y='divisi',  x='resign', data=count5, color='darkblue', ax=axes[1,2])\n",
    "sns.barplot(y='divisi', x='resign', data=resign, estimator = sum, ci = None, color='lightblue', ax=axes[1,2])\n",
    "\n",
    "sns.barplot(x='kecelakaan_kerja',  y='resign', data=count6, color='darkblue', ax=axes[1,1])\n",
    "sns.barplot(x='kecelakaan_kerja', y='resign', data=resign, estimator = sum, ci = None, color='lightblue', ax=axes[1,1])\n",
    "\n",
    "sns.barplot(x='promosi_5thn_lalu',  y='resign', data=count7, color='darkblue', ax=axes[2,0])\n",
    "sns.barplot(x='promosi_5thn_lalu', y='resign', data=resign, estimator = sum, ci = None, color='lightblue', ax=axes[2,0])\n",
    "\n",
    "top_bar = mpatches.Patch(color='darkblue', label='resign = 0')\n",
    "bottom_bar = mpatches.Patch(color='lightblue', label='resign = 1')\n",
    "plt.legend(handles=[top_bar, bottom_bar])\n",
    "\n",
    "fig.tight_layout()"
   ]
  },
  {
   "cell_type": "code",
   "execution_count": 157,
   "metadata": {
    "id": "6bD-oPlz82Nh"
   },
   "outputs": [],
   "source": [
    "#korelasi dan scatter plot"
   ]
  },
  {
   "cell_type": "code",
   "execution_count": 158,
   "metadata": {
    "id": "5Ni76tOP77zl"
   },
   "outputs": [],
   "source": [
    "#bikin histogram buat: 1. keseluruhan variabel numerik ; 2. variabel numerik tsb saat resign = 0 ; 3. variabel numerik tsb saat resign = 1"
   ]
  },
  {
   "cell_type": "markdown",
   "metadata": {
    "id": "zR7NoIKE2A9i"
   },
   "source": [
    "Resign = 0"
   ]
  },
  {
   "cell_type": "code",
   "execution_count": 159,
   "metadata": {
    "colab": {
     "base_uri": "https://localhost:8080/"
    },
    "id": "yoAZS-IMEou-",
    "outputId": "f2ccaf33-9327-42b7-e70b-152b3063a465"
   },
   "outputs": [
    {
     "data": {
      "text/plain": [
       "(7657, 15)"
      ]
     },
     "execution_count": 159,
     "metadata": {
      "tags": []
     },
     "output_type": "execute_result"
    }
   ],
   "source": [
    "df5 = trainrev[trainrev['resign'] == 0]\n",
    "df5.shape"
   ]
  },
  {
   "cell_type": "code",
   "execution_count": 160,
   "metadata": {
    "colab": {
     "base_uri": "https://localhost:8080/",
     "height": 725
    },
    "id": "xL613sEBFRjQ",
    "outputId": "91522591-0f58-48cc-d5b9-cc6544cf9512"
   },
   "outputs": [
    {
     "data": {
      "image/png": "[encoded data removed]",
      "text/plain": [
       "<Figure size 720x720 with 6 Axes>"
      ]
     },
     "metadata": {
      "tags": []
     },
     "output_type": "display_data"
    }
   ],
   "source": [
    "#Histogram variabel metrik\n",
    "fig = plt.figure(figsize=(10,10))\n",
    "\n",
    "ax1 = fig.add_subplot(321)\n",
    "ax2 = fig.add_subplot(322)\n",
    "ax3 = fig.add_subplot(323)\n",
    "ax4 = fig.add_subplot(324)\n",
    "ax5 = fig.add_subplot(325)\n",
    "ax6 = fig.add_subplot(326)\n",
    "\n",
    "df5['IPK'].plot(kind='hist', ax=ax1, color = '#FF0000')\n",
    "df5['rerata_jam_bulanan'].plot(kind='hist', ax=ax2, color = '#00FFFF')\n",
    "df5['nilai_evaluasi_terakhir'].plot(kind='hist', ax=ax3, color = '#0000FF')\n",
    "df5['tingkat_kepuasan_bekerja'].plot(kind='hist', ax=ax4, color = '#ADD8E6')\n",
    "df5['jumlah_proyek_yang_dikerjakan'].plot(kind='hist', ax=ax5, color = '#FFFF00')\n",
    "df5['lama_di_perusahaan_num'].plot(kind='hist', ax=ax6, color = '#FFC0CB')\n",
    "\n",
    "ax1.set_title('IPK Distribution', fontdict={'fontsize': '10'}, pad = 10)\n",
    "ax2.set_title('rerata_jam_bulanan Distribution', fontdict={'fontsize': '10'}, pad = 10)\n",
    "ax3.set_title('nilai_evaluasi_terakhir Distribution', fontdict={'fontsize': '10'}, pad = 10)\n",
    "ax4.set_title('tingkat_kepuasan_bekerja Distribution', fontdict={'fontsize': '10'}, pad = 10)\n",
    "ax5.set_title('jumlah_proyek_yang_dikerjakan Distribution', fontdict={'fontsize': '10'}, pad = 10)\n",
    "ax6.set_title('lama_di_perusahaan_num_Distribution', fontdict={'fontsize': '10'}, pad = 10)\n",
    "\n",
    "\n",
    "fig.tight_layout()"
   ]
  },
  {
   "cell_type": "markdown",
   "metadata": {
    "id": "eSSBdu4S2FDn"
   },
   "source": [
    "Resign  = 1"
   ]
  },
  {
   "cell_type": "code",
   "execution_count": 161,
   "metadata": {
    "colab": {
     "base_uri": "https://localhost:8080/"
    },
    "id": "dlmpFmMvFKwI",
    "outputId": "3228df57-b01d-4bab-850b-099ae6d6be3e"
   },
   "outputs": [
    {
     "data": {
      "text/plain": [
       "(2392, 15)"
      ]
     },
     "execution_count": 161,
     "metadata": {
      "tags": []
     },
     "output_type": "execute_result"
    }
   ],
   "source": [
    "df6 = trainrev[trainrev['resign'] == 1]\n",
    "df6.shape"
   ]
  },
  {
   "cell_type": "code",
   "execution_count": 162,
   "metadata": {
    "colab": {
     "base_uri": "https://localhost:8080/",
     "height": 725
    },
    "id": "vhZALSgAFdkI",
    "outputId": "b81bfb6b-e62e-49c7-9c78-0ccefa845c97"
   },
   "outputs": [
    {
     "data": {
      "image/png": "[encoded data removed]",
      "text/plain": [
       "<Figure size 720x720 with 6 Axes>"
      ]
     },
     "metadata": {
      "tags": []
     },
     "output_type": "display_data"
    }
   ],
   "source": [
    "fig = plt.figure(figsize=(10,10))\n",
    "\n",
    "ax1 = fig.add_subplot(321)\n",
    "ax2 = fig.add_subplot(322)\n",
    "ax3 = fig.add_subplot(323)\n",
    "ax4 = fig.add_subplot(324)\n",
    "ax5 = fig.add_subplot(325)\n",
    "ax6 = fig.add_subplot(326)\n",
    "\n",
    "df6['IPK'].plot(kind='hist', ax=ax1, color = '#FF0000')\n",
    "df6['rerata_jam_bulanan'].plot(kind='hist', ax=ax2, color = '#00FFFF')\n",
    "df6['nilai_evaluasi_terakhir'].plot(kind='hist', ax=ax3, color = '#0000FF')\n",
    "df6['tingkat_kepuasan_bekerja'].plot(kind='hist', ax=ax4, color = '#ADD8E6')\n",
    "df6['jumlah_proyek_yang_dikerjakan'].plot(kind='hist', ax=ax5, color = '#FFFF00')\n",
    "df6['lama_di_perusahaan_num'].plot(kind='hist', ax=ax6, color = '#FFC0CB')\n",
    "\n",
    "ax1.set_title('IPK Distribution', fontdict={'fontsize': '10'}, pad = 10)\n",
    "ax2.set_title('rerata_jam_bulanan Distribution', fontdict={'fontsize': '10'}, pad = 10)\n",
    "ax3.set_title('nilai_evaluasi_terakhir Distribution', fontdict={'fontsize': '10'}, pad = 10)\n",
    "ax4.set_title('tingkat_kepuasan_bekerja Distribution', fontdict={'fontsize': '10'}, pad = 10)\n",
    "ax5.set_title('jumlah_proyek_yang_dikerjakan Distribution', fontdict={'fontsize': '10'}, pad = 10)\n",
    "ax6.set_title('lama_di_perusahaan_num_Distribution', fontdict={'fontsize': '10'}, pad = 10)\n",
    "\n",
    "\n",
    "fig.tight_layout()"
   ]
  },
  {
   "cell_type": "markdown",
   "metadata": {
    "id": "nyDZ_JYg7I7k"
   },
   "source": [
    "Eksplorasi Data Kategorikal"
   ]
  },
  {
   "cell_type": "code",
   "execution_count": 163,
   "metadata": {
    "id": "qjqmaTPq7IuE"
   },
   "outputs": [],
   "source": [
    "#visualisasi bar chart. count aja per kolom"
   ]
  },
  {
   "cell_type": "markdown",
   "metadata": {
    "id": "B-dNI76h5kDC"
   },
   "source": [
    "# **Data Preparation**\n",
    "\n"
   ]
  },
  {
   "cell_type": "code",
   "execution_count": 164,
   "metadata": {
    "id": "dLYHkHKh5iIr"
   },
   "outputs": [],
   "source": [
    "#data cleaning"
   ]
  },
  {
   "cell_type": "code",
   "execution_count": 165,
   "metadata": {
    "id": "Ckh-JBme6Vyk"
   },
   "outputs": [],
   "source": [
    "#1. hapus dataset missing value disesuain sama nilai evaluasi terakhir"
   ]
  },
  {
   "cell_type": "code",
   "execution_count": 166,
   "metadata": {
    "colab": {
     "base_uri": "https://localhost:8080/",
     "height": 277
    },
    "id": "wKfQ25rpB9sT",
    "outputId": "d866e86f-4cb4-4706-e03a-ce7b9b22a147"
   },
   "outputs": [
    {
     "data": {
      "text/html": [
       "<div>\n",
       "<style scoped>\n",
       "    .dataframe tbody tr th:only-of-type {\n",
       "        vertical-align: middle;\n",
       "    }\n",
       "\n",
       "    .dataframe tbody tr th {\n",
       "        vertical-align: top;\n",
       "    }\n",
       "\n",
       "    .dataframe thead th {\n",
       "        text-align: right;\n",
       "    }\n",
       "</style>\n",
       "<table border=\"1\" class=\"dataframe\">\n",
       "  <thead>\n",
       "    <tr style=\"text-align: right;\">\n",
       "      <th></th>\n",
       "      <th>employee_id</th>\n",
       "      <th>jenis_kelamin</th>\n",
       "      <th>IPK</th>\n",
       "      <th>level</th>\n",
       "      <th>status_perkawinan</th>\n",
       "      <th>divisi</th>\n",
       "      <th>rerata_jam_bulanan</th>\n",
       "      <th>tingkat_kepuasan_bekerja</th>\n",
       "      <th>nilai_evaluasi_terakhir</th>\n",
       "      <th>jumlah_proyek_yang_dikerjakan</th>\n",
       "      <th>kecelakaan_kerja</th>\n",
       "      <th>promosi_5thn_lalu</th>\n",
       "      <th>tingkat_gaji</th>\n",
       "      <th>resign</th>\n",
       "      <th>lama_di_perusahaan_num</th>\n",
       "    </tr>\n",
       "  </thead>\n",
       "  <tbody>\n",
       "    <tr>\n",
       "      <th>0</th>\n",
       "      <td>10000</td>\n",
       "      <td>Laki-laki</td>\n",
       "      <td>1.947303</td>\n",
       "      <td>Junior</td>\n",
       "      <td>Sudah Menikah</td>\n",
       "      <td>management</td>\n",
       "      <td>210.0</td>\n",
       "      <td>0.82</td>\n",
       "      <td>0.419035</td>\n",
       "      <td>3</td>\n",
       "      <td>belum pernah</td>\n",
       "      <td>belum</td>\n",
       "      <td>sedang</td>\n",
       "      <td>0</td>\n",
       "      <td>36.0</td>\n",
       "    </tr>\n",
       "    <tr>\n",
       "      <th>1</th>\n",
       "      <td>10001</td>\n",
       "      <td>Laki-laki</td>\n",
       "      <td>3.218346</td>\n",
       "      <td>Full-Time</td>\n",
       "      <td>Belum Menikah</td>\n",
       "      <td>sales</td>\n",
       "      <td>189.0</td>\n",
       "      <td>0.76</td>\n",
       "      <td>0.558254</td>\n",
       "      <td>3</td>\n",
       "      <td>belum pernah</td>\n",
       "      <td>belum</td>\n",
       "      <td>rendah</td>\n",
       "      <td>0</td>\n",
       "      <td>24.0</td>\n",
       "    </tr>\n",
       "    <tr>\n",
       "      <th>2</th>\n",
       "      <td>10002</td>\n",
       "      <td>Laki-laki</td>\n",
       "      <td>2.117364</td>\n",
       "      <td>Senior</td>\n",
       "      <td>Sudah Menikah</td>\n",
       "      <td>management</td>\n",
       "      <td>NaN</td>\n",
       "      <td>0.81</td>\n",
       "      <td>0.580364</td>\n",
       "      <td>5</td>\n",
       "      <td>pernah</td>\n",
       "      <td>belum</td>\n",
       "      <td>tinggi</td>\n",
       "      <td>0</td>\n",
       "      <td>24.0</td>\n",
       "    </tr>\n",
       "    <tr>\n",
       "      <th>3</th>\n",
       "      <td>10003</td>\n",
       "      <td>Laki-laki</td>\n",
       "      <td>3.178748</td>\n",
       "      <td>Full-Time</td>\n",
       "      <td>Belum Menikah</td>\n",
       "      <td>sales</td>\n",
       "      <td>121.0</td>\n",
       "      <td>0.84</td>\n",
       "      <td>0.446109</td>\n",
       "      <td>3</td>\n",
       "      <td>pernah</td>\n",
       "      <td>belum</td>\n",
       "      <td>rendah</td>\n",
       "      <td>0</td>\n",
       "      <td>36.0</td>\n",
       "    </tr>\n",
       "    <tr>\n",
       "      <th>4</th>\n",
       "      <td>10004</td>\n",
       "      <td>Laki-laki</td>\n",
       "      <td>2.680535</td>\n",
       "      <td>Part-Time</td>\n",
       "      <td>Belum Menikah</td>\n",
       "      <td>technical</td>\n",
       "      <td>229.0</td>\n",
       "      <td>0.48</td>\n",
       "      <td>NaN</td>\n",
       "      <td>3</td>\n",
       "      <td>belum pernah</td>\n",
       "      <td>belum</td>\n",
       "      <td>rendah</td>\n",
       "      <td>0</td>\n",
       "      <td>36.0</td>\n",
       "    </tr>\n",
       "  </tbody>\n",
       "</table>\n",
       "</div>"
      ],
      "text/plain": [
       "   employee_id jenis_kelamin  ...  resign lama_di_perusahaan_num\n",
       "0        10000     Laki-laki  ...       0                   36.0\n",
       "1        10001     Laki-laki  ...       0                   24.0\n",
       "2        10002     Laki-laki  ...       0                   24.0\n",
       "3        10003     Laki-laki  ...       0                   36.0\n",
       "4        10004     Laki-laki  ...       0                   36.0\n",
       "\n",
       "[5 rows x 15 columns]"
      ]
     },
     "execution_count": 166,
     "metadata": {
      "tags": []
     },
     "output_type": "execute_result"
    }
   ],
   "source": [
    "df4 = trainrev\n",
    "df4.head()"
   ]
  },
  {
   "cell_type": "code",
   "execution_count": 167,
   "metadata": {
    "id": "dPxC8QX9h3TF"
   },
   "outputs": [],
   "source": [
    "#Imputasi missing data menggunakan mean - train\n",
    "from sklearn.impute import SimpleImputer\n",
    "rerata = SimpleImputer(strategy='mean')\n",
    "trainrev['rerata_jam_bulanan'] = rerata.fit_transform(trainrev['rerata_jam_bulanan'].values.reshape(-1,1))\n",
    "trainrev['nilai_evaluasi_terakhir'] = rerata.fit_transform(trainrev['nilai_evaluasi_terakhir'].values.reshape(-1,1))\n",
    "trainrev['tingkat_kepuasan_bekerja'] = rerata.fit_transform(trainrev['tingkat_kepuasan_bekerja'].values.reshape(-1,1))"
   ]
  },
  {
   "cell_type": "code",
   "execution_count": 168,
   "metadata": {
    "colab": {
     "base_uri": "https://localhost:8080/"
    },
    "id": "KvoyirZkfJ-k",
    "outputId": "ed92b871-ef4d-4164-a3e9-2aa6865ebfd6"
   },
   "outputs": [
    {
     "data": {
      "text/plain": [
       "employee_id                        0\n",
       "jenis_kelamin                      0\n",
       "IPK                                0\n",
       "level                              0\n",
       "status_perkawinan                  0\n",
       "divisi                             0\n",
       "rerata_jam_bulanan               588\n",
       "tingkat_kepuasan_bekerja         466\n",
       "nilai_evaluasi_terakhir          856\n",
       "jumlah_proyek_yang_dikerjakan      0\n",
       "kecelakaan_kerja                   0\n",
       "promosi_5thn_lalu                  0\n",
       "tingkat_gaji                       0\n",
       "lama_di_perusahaan_num             0\n",
       "dtype: int64"
      ]
     },
     "execution_count": 168,
     "metadata": {
      "tags": []
     },
     "output_type": "execute_result"
    }
   ],
   "source": [
    "testrev.isna().sum()"
   ]
  },
  {
   "cell_type": "code",
   "execution_count": 169,
   "metadata": {
    "id": "nDUHNlcsTEfF"
   },
   "outputs": [],
   "source": [
    "#Imputasi missing data menggunakan mean - test\n",
    "from sklearn.impute import SimpleImputer\n",
    "rerata = SimpleImputer(strategy='mean')\n",
    "testrev['rerata_jam_bulanan'] = rerata.fit_transform(testrev['rerata_jam_bulanan'].values.reshape(-1,1))\n",
    "testrev['nilai_evaluasi_terakhir'] = rerata.fit_transform(testrev['nilai_evaluasi_terakhir'].values.reshape(-1,1))\n",
    "testrev['tingkat_kepuasan_bekerja'] = rerata.fit_transform(testrev['tingkat_kepuasan_bekerja'].values.reshape(-1,1))"
   ]
  },
  {
   "cell_type": "code",
   "execution_count": 170,
   "metadata": {
    "colab": {
     "base_uri": "https://localhost:8080/"
    },
    "id": "XvjPtrmngMFF",
    "outputId": "17fd9942-884d-4ea1-c261-ce8b122051ce"
   },
   "outputs": [
    {
     "data": {
      "text/plain": [
       "employee_id                      0\n",
       "jenis_kelamin                    0\n",
       "IPK                              0\n",
       "level                            0\n",
       "status_perkawinan                0\n",
       "divisi                           0\n",
       "rerata_jam_bulanan               0\n",
       "tingkat_kepuasan_bekerja         0\n",
       "nilai_evaluasi_terakhir          0\n",
       "jumlah_proyek_yang_dikerjakan    0\n",
       "kecelakaan_kerja                 0\n",
       "promosi_5thn_lalu                0\n",
       "tingkat_gaji                     0\n",
       "lama_di_perusahaan_num           0\n",
       "dtype: int64"
      ]
     },
     "execution_count": 170,
     "metadata": {
      "tags": []
     },
     "output_type": "execute_result"
    }
   ],
   "source": [
    "testrev.isna().sum()"
   ]
  },
  {
   "cell_type": "code",
   "execution_count": 171,
   "metadata": {
    "id": "euu5HhDt97UQ"
   },
   "outputs": [],
   "source": [
    "#2. isi missing value pake mean"
   ]
  },
  {
   "cell_type": "code",
   "execution_count": 172,
   "metadata": {
    "id": "HYPuiEhS-xOZ"
   },
   "outputs": [],
   "source": [
    "#uji normalitas ulang"
   ]
  },
  {
   "cell_type": "code",
   "execution_count": 173,
   "metadata": {
    "id": "QWbtPuQfnDzm"
   },
   "outputs": [],
   "source": [
    "#Menghapus variabel tidak relevan\n",
    "modeltrainrev = trainrev.drop(columns = ['employee_id','jenis_kelamin','status_perkawinan','IPK','nilai_evaluasi_terakhir'])\n",
    "modeltestrev = testrev.drop(columns = ['employee_id','jenis_kelamin','status_perkawinan','IPK','nilai_evaluasi_terakhir'])"
   ]
  },
  {
   "cell_type": "code",
   "execution_count": 174,
   "metadata": {
    "colab": {
     "base_uri": "https://localhost:8080/"
    },
    "id": "SKPA4OxurQW2",
    "outputId": "391b02ae-e0c1-4f40-846e-6356ba1bfb35"
   },
   "outputs": [
    {
     "name": "stdout",
     "output_type": "stream",
     "text": [
      "(10049, 10)\n",
      "(4950, 9)\n"
     ]
    }
   ],
   "source": [
    "print(modeltrainrev.shape)\n",
    "print(modeltestrev.shape)"
   ]
  },
  {
   "cell_type": "code",
   "execution_count": 175,
   "metadata": {
    "id": "3UZgS20Itj6P"
   },
   "outputs": [],
   "source": [
    "#Normalisasi variabel metrik - train\n",
    "from sklearn.preprocessing import MinMaxScaler\n",
    "scaled_cols = ['rerata_jam_bulanan', 'jumlah_proyek_yang_dikerjakan', 'lama_di_perusahaan_num']\n",
    "scaler = MinMaxScaler()\n",
    "scaler.fit(modeltrainrev[scaled_cols])\n",
    "modeltrainrev[scaled_cols] = scaler.transform(modeltrainrev[scaled_cols])"
   ]
  },
  {
   "cell_type": "code",
   "execution_count": 176,
   "metadata": {
    "id": "84X67Lm6udhs"
   },
   "outputs": [],
   "source": [
    "#Normalisasi variabel metrik - test\n",
    "scaler.fit(modeltestrev[scaled_cols])\n",
    "modeltestrev[scaled_cols] = scaler.transform(modeltestrev[scaled_cols])"
   ]
  },
  {
   "cell_type": "code",
   "execution_count": 177,
   "metadata": {
    "colab": {
     "base_uri": "https://localhost:8080/",
     "height": 299
    },
    "id": "t_qhZ1hQujfA",
    "outputId": "7fd9a79f-ebb4-46a8-ba4f-b8213a5285cb"
   },
   "outputs": [
    {
     "data": {
      "text/html": [
       "<div>\n",
       "<style scoped>\n",
       "    .dataframe tbody tr th:only-of-type {\n",
       "        vertical-align: middle;\n",
       "    }\n",
       "\n",
       "    .dataframe tbody tr th {\n",
       "        vertical-align: top;\n",
       "    }\n",
       "\n",
       "    .dataframe thead th {\n",
       "        text-align: right;\n",
       "    }\n",
       "</style>\n",
       "<table border=\"1\" class=\"dataframe\">\n",
       "  <thead>\n",
       "    <tr style=\"text-align: right;\">\n",
       "      <th></th>\n",
       "      <th>rerata_jam_bulanan</th>\n",
       "      <th>tingkat_kepuasan_bekerja</th>\n",
       "      <th>jumlah_proyek_yang_dikerjakan</th>\n",
       "      <th>resign</th>\n",
       "      <th>lama_di_perusahaan_num</th>\n",
       "    </tr>\n",
       "  </thead>\n",
       "  <tbody>\n",
       "    <tr>\n",
       "      <th>count</th>\n",
       "      <td>10049.000000</td>\n",
       "      <td>10049.000000</td>\n",
       "      <td>10049.000000</td>\n",
       "      <td>10049.000000</td>\n",
       "      <td>10049.000000</td>\n",
       "    </tr>\n",
       "    <tr>\n",
       "      <th>mean</th>\n",
       "      <td>0.231061</td>\n",
       "      <td>0.611906</td>\n",
       "      <td>0.359538</td>\n",
       "      <td>0.238034</td>\n",
       "      <td>0.187991</td>\n",
       "    </tr>\n",
       "    <tr>\n",
       "      <th>std</th>\n",
       "      <td>0.113962</td>\n",
       "      <td>0.237921</td>\n",
       "      <td>0.245466</td>\n",
       "      <td>0.425901</td>\n",
       "      <td>0.183967</td>\n",
       "    </tr>\n",
       "    <tr>\n",
       "      <th>min</th>\n",
       "      <td>0.000000</td>\n",
       "      <td>0.090000</td>\n",
       "      <td>0.000000</td>\n",
       "      <td>0.000000</td>\n",
       "      <td>0.000000</td>\n",
       "    </tr>\n",
       "    <tr>\n",
       "      <th>25%</th>\n",
       "      <td>0.138229</td>\n",
       "      <td>0.450000</td>\n",
       "      <td>0.200000</td>\n",
       "      <td>0.000000</td>\n",
       "      <td>0.125000</td>\n",
       "    </tr>\n",
       "    <tr>\n",
       "      <th>50%</th>\n",
       "      <td>0.231061</td>\n",
       "      <td>0.611906</td>\n",
       "      <td>0.400000</td>\n",
       "      <td>0.000000</td>\n",
       "      <td>0.125000</td>\n",
       "    </tr>\n",
       "    <tr>\n",
       "      <th>75%</th>\n",
       "      <td>0.311015</td>\n",
       "      <td>0.800000</td>\n",
       "      <td>0.600000</td>\n",
       "      <td>0.000000</td>\n",
       "      <td>0.250000</td>\n",
       "    </tr>\n",
       "    <tr>\n",
       "      <th>max</th>\n",
       "      <td>1.000000</td>\n",
       "      <td>1.000000</td>\n",
       "      <td>1.000000</td>\n",
       "      <td>1.000000</td>\n",
       "      <td>1.000000</td>\n",
       "    </tr>\n",
       "  </tbody>\n",
       "</table>\n",
       "</div>"
      ],
      "text/plain": [
       "       rerata_jam_bulanan  ...  lama_di_perusahaan_num\n",
       "count        10049.000000  ...            10049.000000\n",
       "mean             0.231061  ...                0.187991\n",
       "std              0.113962  ...                0.183967\n",
       "min              0.000000  ...                0.000000\n",
       "25%              0.138229  ...                0.125000\n",
       "50%              0.231061  ...                0.125000\n",
       "75%              0.311015  ...                0.250000\n",
       "max              1.000000  ...                1.000000\n",
       "\n",
       "[8 rows x 5 columns]"
      ]
     },
     "execution_count": 177,
     "metadata": {
      "tags": []
     },
     "output_type": "execute_result"
    }
   ],
   "source": [
    "modeltrainrev.describe()"
   ]
  },
  {
   "cell_type": "code",
   "execution_count": 178,
   "metadata": {
    "colab": {
     "base_uri": "https://localhost:8080/",
     "height": 299
    },
    "id": "aybgNhG2um2w",
    "outputId": "89b9636d-a76d-4c25-c62d-ce871db3f846"
   },
   "outputs": [
    {
     "data": {
      "text/html": [
       "<div>\n",
       "<style scoped>\n",
       "    .dataframe tbody tr th:only-of-type {\n",
       "        vertical-align: middle;\n",
       "    }\n",
       "\n",
       "    .dataframe tbody tr th {\n",
       "        vertical-align: top;\n",
       "    }\n",
       "\n",
       "    .dataframe thead th {\n",
       "        text-align: right;\n",
       "    }\n",
       "</style>\n",
       "<table border=\"1\" class=\"dataframe\">\n",
       "  <thead>\n",
       "    <tr style=\"text-align: right;\">\n",
       "      <th></th>\n",
       "      <th>rerata_jam_bulanan</th>\n",
       "      <th>tingkat_kepuasan_bekerja</th>\n",
       "      <th>jumlah_proyek_yang_dikerjakan</th>\n",
       "      <th>lama_di_perusahaan_num</th>\n",
       "    </tr>\n",
       "  </thead>\n",
       "  <tbody>\n",
       "    <tr>\n",
       "      <th>count</th>\n",
       "      <td>4950.000000</td>\n",
       "      <td>4950.000000</td>\n",
       "      <td>4950.000000</td>\n",
       "      <td>4950.000000</td>\n",
       "    </tr>\n",
       "    <tr>\n",
       "      <th>mean</th>\n",
       "      <td>0.230843</td>\n",
       "      <td>0.612132</td>\n",
       "      <td>0.362788</td>\n",
       "      <td>0.185833</td>\n",
       "    </tr>\n",
       "    <tr>\n",
       "      <th>std</th>\n",
       "      <td>0.109659</td>\n",
       "      <td>0.237699</td>\n",
       "      <td>0.248652</td>\n",
       "      <td>0.179547</td>\n",
       "    </tr>\n",
       "    <tr>\n",
       "      <th>min</th>\n",
       "      <td>0.000000</td>\n",
       "      <td>0.090000</td>\n",
       "      <td>0.000000</td>\n",
       "      <td>0.000000</td>\n",
       "    </tr>\n",
       "    <tr>\n",
       "      <th>25%</th>\n",
       "      <td>0.138528</td>\n",
       "      <td>0.460000</td>\n",
       "      <td>0.200000</td>\n",
       "      <td>0.125000</td>\n",
       "    </tr>\n",
       "    <tr>\n",
       "      <th>50%</th>\n",
       "      <td>0.230843</td>\n",
       "      <td>0.612132</td>\n",
       "      <td>0.400000</td>\n",
       "      <td>0.125000</td>\n",
       "    </tr>\n",
       "    <tr>\n",
       "      <th>75%</th>\n",
       "      <td>0.313853</td>\n",
       "      <td>0.800000</td>\n",
       "      <td>0.600000</td>\n",
       "      <td>0.250000</td>\n",
       "    </tr>\n",
       "    <tr>\n",
       "      <th>max</th>\n",
       "      <td>1.000000</td>\n",
       "      <td>1.000000</td>\n",
       "      <td>1.000000</td>\n",
       "      <td>1.000000</td>\n",
       "    </tr>\n",
       "  </tbody>\n",
       "</table>\n",
       "</div>"
      ],
      "text/plain": [
       "       rerata_jam_bulanan  ...  lama_di_perusahaan_num\n",
       "count         4950.000000  ...             4950.000000\n",
       "mean             0.230843  ...                0.185833\n",
       "std              0.109659  ...                0.179547\n",
       "min              0.000000  ...                0.000000\n",
       "25%              0.138528  ...                0.125000\n",
       "50%              0.230843  ...                0.125000\n",
       "75%              0.313853  ...                0.250000\n",
       "max              1.000000  ...                1.000000\n",
       "\n",
       "[8 rows x 4 columns]"
      ]
     },
     "execution_count": 178,
     "metadata": {
      "tags": []
     },
     "output_type": "execute_result"
    }
   ],
   "source": [
    "modeltestrev.describe()"
   ]
  },
  {
   "cell_type": "code",
   "execution_count": 179,
   "metadata": {
    "colab": {
     "base_uri": "https://localhost:8080/",
     "height": 243
    },
    "id": "B0xAJ_fF_Bq2",
    "outputId": "94fcbc75-7074-4d16-a239-442ff807a132"
   },
   "outputs": [
    {
     "data": {
      "text/html": [
       "<div>\n",
       "<style scoped>\n",
       "    .dataframe tbody tr th:only-of-type {\n",
       "        vertical-align: middle;\n",
       "    }\n",
       "\n",
       "    .dataframe tbody tr th {\n",
       "        vertical-align: top;\n",
       "    }\n",
       "\n",
       "    .dataframe thead th {\n",
       "        text-align: right;\n",
       "    }\n",
       "</style>\n",
       "<table border=\"1\" class=\"dataframe\">\n",
       "  <thead>\n",
       "    <tr style=\"text-align: right;\">\n",
       "      <th></th>\n",
       "      <th>resign</th>\n",
       "      <th>level_Internship</th>\n",
       "      <th>level_Junior</th>\n",
       "      <th>level_Part-Time</th>\n",
       "      <th>level_Probation</th>\n",
       "      <th>level_Senior</th>\n",
       "      <th>divisi_RandD</th>\n",
       "      <th>divisi_accounting</th>\n",
       "      <th>divisi_hr</th>\n",
       "      <th>divisi_management</th>\n",
       "      <th>divisi_marketing</th>\n",
       "      <th>divisi_product_mng</th>\n",
       "      <th>divisi_sales</th>\n",
       "      <th>divisi_support</th>\n",
       "      <th>divisi_technical</th>\n",
       "      <th>kecelakaan_kerja_pernah</th>\n",
       "      <th>promosi_5thn_lalu_sudah</th>\n",
       "      <th>tingkat_gaji_sedang</th>\n",
       "      <th>tingkat_gaji_tinggi</th>\n",
       "      <th>rerata_jam_bulanan</th>\n",
       "      <th>tingkat_kepuasan_bekerja</th>\n",
       "      <th>jumlah_proyek_yang_dikerjakan</th>\n",
       "      <th>lama_di_perusahaan_num</th>\n",
       "    </tr>\n",
       "  </thead>\n",
       "  <tbody>\n",
       "    <tr>\n",
       "      <th>0</th>\n",
       "      <td>0</td>\n",
       "      <td>0</td>\n",
       "      <td>1</td>\n",
       "      <td>0</td>\n",
       "      <td>0</td>\n",
       "      <td>0</td>\n",
       "      <td>0</td>\n",
       "      <td>0</td>\n",
       "      <td>0</td>\n",
       "      <td>1</td>\n",
       "      <td>0</td>\n",
       "      <td>0</td>\n",
       "      <td>0</td>\n",
       "      <td>0</td>\n",
       "      <td>0</td>\n",
       "      <td>0</td>\n",
       "      <td>0</td>\n",
       "      <td>1</td>\n",
       "      <td>0</td>\n",
       "      <td>0.246220</td>\n",
       "      <td>0.82</td>\n",
       "      <td>0.2</td>\n",
       "      <td>0.125</td>\n",
       "    </tr>\n",
       "    <tr>\n",
       "      <th>1</th>\n",
       "      <td>0</td>\n",
       "      <td>0</td>\n",
       "      <td>0</td>\n",
       "      <td>0</td>\n",
       "      <td>0</td>\n",
       "      <td>0</td>\n",
       "      <td>0</td>\n",
       "      <td>0</td>\n",
       "      <td>0</td>\n",
       "      <td>0</td>\n",
       "      <td>0</td>\n",
       "      <td>0</td>\n",
       "      <td>1</td>\n",
       "      <td>0</td>\n",
       "      <td>0</td>\n",
       "      <td>0</td>\n",
       "      <td>0</td>\n",
       "      <td>0</td>\n",
       "      <td>0</td>\n",
       "      <td>0.200864</td>\n",
       "      <td>0.76</td>\n",
       "      <td>0.2</td>\n",
       "      <td>0.000</td>\n",
       "    </tr>\n",
       "    <tr>\n",
       "      <th>2</th>\n",
       "      <td>0</td>\n",
       "      <td>0</td>\n",
       "      <td>0</td>\n",
       "      <td>0</td>\n",
       "      <td>0</td>\n",
       "      <td>1</td>\n",
       "      <td>0</td>\n",
       "      <td>0</td>\n",
       "      <td>0</td>\n",
       "      <td>1</td>\n",
       "      <td>0</td>\n",
       "      <td>0</td>\n",
       "      <td>0</td>\n",
       "      <td>0</td>\n",
       "      <td>0</td>\n",
       "      <td>1</td>\n",
       "      <td>0</td>\n",
       "      <td>0</td>\n",
       "      <td>1</td>\n",
       "      <td>0.231061</td>\n",
       "      <td>0.81</td>\n",
       "      <td>0.6</td>\n",
       "      <td>0.000</td>\n",
       "    </tr>\n",
       "    <tr>\n",
       "      <th>3</th>\n",
       "      <td>0</td>\n",
       "      <td>0</td>\n",
       "      <td>0</td>\n",
       "      <td>0</td>\n",
       "      <td>0</td>\n",
       "      <td>0</td>\n",
       "      <td>0</td>\n",
       "      <td>0</td>\n",
       "      <td>0</td>\n",
       "      <td>0</td>\n",
       "      <td>0</td>\n",
       "      <td>0</td>\n",
       "      <td>1</td>\n",
       "      <td>0</td>\n",
       "      <td>0</td>\n",
       "      <td>1</td>\n",
       "      <td>0</td>\n",
       "      <td>0</td>\n",
       "      <td>0</td>\n",
       "      <td>0.053996</td>\n",
       "      <td>0.84</td>\n",
       "      <td>0.2</td>\n",
       "      <td>0.125</td>\n",
       "    </tr>\n",
       "    <tr>\n",
       "      <th>4</th>\n",
       "      <td>0</td>\n",
       "      <td>0</td>\n",
       "      <td>0</td>\n",
       "      <td>1</td>\n",
       "      <td>0</td>\n",
       "      <td>0</td>\n",
       "      <td>0</td>\n",
       "      <td>0</td>\n",
       "      <td>0</td>\n",
       "      <td>0</td>\n",
       "      <td>0</td>\n",
       "      <td>0</td>\n",
       "      <td>0</td>\n",
       "      <td>0</td>\n",
       "      <td>1</td>\n",
       "      <td>0</td>\n",
       "      <td>0</td>\n",
       "      <td>0</td>\n",
       "      <td>0</td>\n",
       "      <td>0.287257</td>\n",
       "      <td>0.48</td>\n",
       "      <td>0.2</td>\n",
       "      <td>0.125</td>\n",
       "    </tr>\n",
       "  </tbody>\n",
       "</table>\n",
       "</div>"
      ],
      "text/plain": [
       "   resign  ...  lama_di_perusahaan_num\n",
       "0       0  ...                   0.125\n",
       "1       0  ...                   0.000\n",
       "2       0  ...                   0.000\n",
       "3       0  ...                   0.125\n",
       "4       0  ...                   0.125\n",
       "\n",
       "[5 rows x 23 columns]"
      ]
     },
     "execution_count": 179,
     "metadata": {
      "tags": []
     },
     "output_type": "execute_result"
    }
   ],
   "source": [
    "#Membuat variabel dummy untuk kategorikal - train\n",
    "catt = ['level','divisi','kecelakaan_kerja','promosi_5thn_lalu','tingkat_gaji','resign']\n",
    "numm = ['rerata_jam_bulanan','tingkat_kepuasan_bekerja','jumlah_proyek_yang_dikerjakan','lama_di_perusahaan_num']\n",
    "categorical_df = pd.get_dummies(modeltrainrev[catt], drop_first=True)\n",
    "numerical_df = modeltrainrev[numm]\n",
    "\n",
    "modeldf = pd.concat([categorical_df,numerical_df], axis=1)\n",
    "modeldf.head()"
   ]
  },
  {
   "cell_type": "code",
   "execution_count": 180,
   "metadata": {
    "colab": {
     "base_uri": "https://localhost:8080/",
     "height": 243
    },
    "id": "-8paLUCbUnt6",
    "outputId": "6dd2ba3e-9943-4173-a6e2-8f6baaf6095a"
   },
   "outputs": [
    {
     "data": {
      "text/html": [
       "<div>\n",
       "<style scoped>\n",
       "    .dataframe tbody tr th:only-of-type {\n",
       "        vertical-align: middle;\n",
       "    }\n",
       "\n",
       "    .dataframe tbody tr th {\n",
       "        vertical-align: top;\n",
       "    }\n",
       "\n",
       "    .dataframe thead th {\n",
       "        text-align: right;\n",
       "    }\n",
       "</style>\n",
       "<table border=\"1\" class=\"dataframe\">\n",
       "  <thead>\n",
       "    <tr style=\"text-align: right;\">\n",
       "      <th></th>\n",
       "      <th>level_Internship</th>\n",
       "      <th>level_Junior</th>\n",
       "      <th>level_Part-Time</th>\n",
       "      <th>level_Probation</th>\n",
       "      <th>level_Senior</th>\n",
       "      <th>divisi_RandD</th>\n",
       "      <th>divisi_accounting</th>\n",
       "      <th>divisi_hr</th>\n",
       "      <th>divisi_management</th>\n",
       "      <th>divisi_marketing</th>\n",
       "      <th>divisi_product_mng</th>\n",
       "      <th>divisi_sales</th>\n",
       "      <th>divisi_support</th>\n",
       "      <th>divisi_technical</th>\n",
       "      <th>kecelakaan_kerja_pernah</th>\n",
       "      <th>promosi_5thn_lalu_sudah</th>\n",
       "      <th>tingkat_gaji_sedang</th>\n",
       "      <th>tingkat_gaji_tinggi</th>\n",
       "      <th>rerata_jam_bulanan</th>\n",
       "      <th>tingkat_kepuasan_bekerja</th>\n",
       "      <th>jumlah_proyek_yang_dikerjakan</th>\n",
       "      <th>lama_di_perusahaan_num</th>\n",
       "    </tr>\n",
       "  </thead>\n",
       "  <tbody>\n",
       "    <tr>\n",
       "      <th>0</th>\n",
       "      <td>0</td>\n",
       "      <td>0</td>\n",
       "      <td>0</td>\n",
       "      <td>0</td>\n",
       "      <td>1</td>\n",
       "      <td>0</td>\n",
       "      <td>0</td>\n",
       "      <td>0</td>\n",
       "      <td>0</td>\n",
       "      <td>0</td>\n",
       "      <td>0</td>\n",
       "      <td>0</td>\n",
       "      <td>0</td>\n",
       "      <td>1</td>\n",
       "      <td>0</td>\n",
       "      <td>0</td>\n",
       "      <td>0</td>\n",
       "      <td>0</td>\n",
       "      <td>0.086580</td>\n",
       "      <td>0.38</td>\n",
       "      <td>0.0</td>\n",
       "      <td>0.125</td>\n",
       "    </tr>\n",
       "    <tr>\n",
       "      <th>1</th>\n",
       "      <td>0</td>\n",
       "      <td>0</td>\n",
       "      <td>1</td>\n",
       "      <td>0</td>\n",
       "      <td>0</td>\n",
       "      <td>0</td>\n",
       "      <td>0</td>\n",
       "      <td>0</td>\n",
       "      <td>0</td>\n",
       "      <td>0</td>\n",
       "      <td>0</td>\n",
       "      <td>1</td>\n",
       "      <td>0</td>\n",
       "      <td>0</td>\n",
       "      <td>0</td>\n",
       "      <td>0</td>\n",
       "      <td>1</td>\n",
       "      <td>0</td>\n",
       "      <td>0.348485</td>\n",
       "      <td>0.85</td>\n",
       "      <td>0.2</td>\n",
       "      <td>0.125</td>\n",
       "    </tr>\n",
       "    <tr>\n",
       "      <th>2</th>\n",
       "      <td>0</td>\n",
       "      <td>0</td>\n",
       "      <td>0</td>\n",
       "      <td>1</td>\n",
       "      <td>0</td>\n",
       "      <td>0</td>\n",
       "      <td>0</td>\n",
       "      <td>0</td>\n",
       "      <td>0</td>\n",
       "      <td>1</td>\n",
       "      <td>0</td>\n",
       "      <td>0</td>\n",
       "      <td>0</td>\n",
       "      <td>0</td>\n",
       "      <td>0</td>\n",
       "      <td>0</td>\n",
       "      <td>1</td>\n",
       "      <td>0</td>\n",
       "      <td>0.346320</td>\n",
       "      <td>0.91</td>\n",
       "      <td>0.2</td>\n",
       "      <td>0.125</td>\n",
       "    </tr>\n",
       "    <tr>\n",
       "      <th>3</th>\n",
       "      <td>0</td>\n",
       "      <td>0</td>\n",
       "      <td>0</td>\n",
       "      <td>0</td>\n",
       "      <td>1</td>\n",
       "      <td>0</td>\n",
       "      <td>0</td>\n",
       "      <td>0</td>\n",
       "      <td>0</td>\n",
       "      <td>0</td>\n",
       "      <td>0</td>\n",
       "      <td>1</td>\n",
       "      <td>0</td>\n",
       "      <td>0</td>\n",
       "      <td>0</td>\n",
       "      <td>0</td>\n",
       "      <td>0</td>\n",
       "      <td>0</td>\n",
       "      <td>0.097403</td>\n",
       "      <td>0.42</td>\n",
       "      <td>0.0</td>\n",
       "      <td>0.125</td>\n",
       "    </tr>\n",
       "    <tr>\n",
       "      <th>4</th>\n",
       "      <td>0</td>\n",
       "      <td>1</td>\n",
       "      <td>0</td>\n",
       "      <td>0</td>\n",
       "      <td>0</td>\n",
       "      <td>0</td>\n",
       "      <td>0</td>\n",
       "      <td>0</td>\n",
       "      <td>0</td>\n",
       "      <td>0</td>\n",
       "      <td>0</td>\n",
       "      <td>1</td>\n",
       "      <td>0</td>\n",
       "      <td>0</td>\n",
       "      <td>1</td>\n",
       "      <td>0</td>\n",
       "      <td>0</td>\n",
       "      <td>0</td>\n",
       "      <td>0.378788</td>\n",
       "      <td>0.93</td>\n",
       "      <td>0.2</td>\n",
       "      <td>0.000</td>\n",
       "    </tr>\n",
       "  </tbody>\n",
       "</table>\n",
       "</div>"
      ],
      "text/plain": [
       "   level_Internship  ...  lama_di_perusahaan_num\n",
       "0                 0  ...                   0.125\n",
       "1                 0  ...                   0.125\n",
       "2                 0  ...                   0.125\n",
       "3                 0  ...                   0.125\n",
       "4                 0  ...                   0.000\n",
       "\n",
       "[5 rows x 22 columns]"
      ]
     },
     "execution_count": 180,
     "metadata": {
      "tags": []
     },
     "output_type": "execute_result"
    }
   ],
   "source": [
    "#Membuat variabel dummy untuk kategorikal - test\n",
    "catttest = ['level','divisi','kecelakaan_kerja','promosi_5thn_lalu','tingkat_gaji']\n",
    "nummtest = ['rerata_jam_bulanan','tingkat_kepuasan_bekerja','jumlah_proyek_yang_dikerjakan','lama_di_perusahaan_num']\n",
    "categorical_dftest = pd.get_dummies(modeltestrev[catttest], drop_first=True)\n",
    "numerical_dftest = modeltestrev[nummtest]\n",
    "\n",
    "modeldftest = pd.concat([categorical_dftest,numerical_dftest], axis=1)\n",
    "modeldftest.head()"
   ]
  },
  {
   "cell_type": "markdown",
   "metadata": {
    "id": "TvS2fIN19i3I"
   },
   "source": [
    "**Metode Baru**"
   ]
  },
  {
   "cell_type": "markdown",
   "metadata": {
    "id": "poVHKqCF--h7"
   },
   "source": [
    "Dataset train"
   ]
  },
  {
   "cell_type": "code",
   "execution_count": 181,
   "metadata": {
    "colab": {
     "base_uri": "https://localhost:8080/"
    },
    "id": "4KUjv5dA_zP_",
    "outputId": "34258029-234a-440a-d7ae-048a33878a12"
   },
   "outputs": [
    {
     "name": "stdout",
     "output_type": "stream",
     "text": [
      "<class 'pandas.core.frame.DataFrame'>\n",
      "RangeIndex: 10049 entries, 0 to 10048\n",
      "Data columns (total 18 columns):\n",
      " #   Column                         Non-Null Count  Dtype  \n",
      "---  ------                         --------------  -----  \n",
      " 0   employee_id                    10049 non-null  int64  \n",
      " 1   umur                           2338 non-null   float64\n",
      " 2   jenis_kelamin                  10049 non-null  object \n",
      " 3   IPK                            10049 non-null  float64\n",
      " 4   level                          10049 non-null  object \n",
      " 5   tahun_lulus                    2338 non-null   float64\n",
      " 6   status_perkawinan              10049 non-null  object \n",
      " 7   divisi                         10049 non-null  object \n",
      " 8   rerata_jam_bulanan             8700 non-null   float64\n",
      " 9   tingkat_kepuasan_bekerja       9253 non-null   float64\n",
      " 10  nilai_evaluasi_terakhir        8499 non-null   float64\n",
      " 11  jumlah_proyek_yang_dikerjakan  10049 non-null  int64  \n",
      " 12  lama_di_perusahaan             10049 non-null  object \n",
      " 13  kecelakaan_kerja               10049 non-null  object \n",
      " 14  promosi_5thn_lalu              10049 non-null  object \n",
      " 15  tingkat_gaji                   10049 non-null  object \n",
      " 16  resign                         10049 non-null  int64  \n",
      " 17  lama_di_perusahaan_num         10049 non-null  float64\n",
      "dtypes: float64(7), int64(3), object(8)\n",
      "memory usage: 1.4+ MB\n"
     ]
    }
   ],
   "source": [
    "train.info()"
   ]
  },
  {
   "cell_type": "code",
   "execution_count": 182,
   "metadata": {
    "colab": {
     "base_uri": "https://localhost:8080/"
    },
    "id": "M6_3eKsV9_gf",
    "outputId": "612740fa-5020-4d4c-8047-c99846abb2a5"
   },
   "outputs": [
    {
     "name": "stdout",
     "output_type": "stream",
     "text": [
      "(8018, 10)\n"
     ]
    }
   ],
   "source": [
    "#Menghapus variabel tidak relevan\n",
    "train0 = train.drop(columns = ['umur','tahun_lulus','lama_di_perusahaan'])\n",
    "train1 = train0.drop(columns = ['employee_id','jenis_kelamin','status_perkawinan','IPK','nilai_evaluasi_terakhir'])\n",
    "#Dataset train versi drop\n",
    "train2 = train1.dropna(how='any')\n",
    "print(train2.shape)"
   ]
  },
  {
   "cell_type": "code",
   "execution_count": 183,
   "metadata": {
    "colab": {
     "base_uri": "https://localhost:8080/"
    },
    "id": "OQv8QcnKApKI",
    "outputId": "4d56be48-9a39-4e3e-f24d-ffd5edbe01c4"
   },
   "outputs": [
    {
     "name": "stdout",
     "output_type": "stream",
     "text": [
      "<class 'pandas.core.frame.DataFrame'>\n",
      "Int64Index: 8018 entries, 0 to 10048\n",
      "Data columns (total 10 columns):\n",
      " #   Column                         Non-Null Count  Dtype  \n",
      "---  ------                         --------------  -----  \n",
      " 0   level                          8018 non-null   object \n",
      " 1   divisi                         8018 non-null   object \n",
      " 2   rerata_jam_bulanan             8018 non-null   float64\n",
      " 3   tingkat_kepuasan_bekerja       8018 non-null   float64\n",
      " 4   jumlah_proyek_yang_dikerjakan  8018 non-null   int64  \n",
      " 5   kecelakaan_kerja               8018 non-null   object \n",
      " 6   promosi_5thn_lalu              8018 non-null   object \n",
      " 7   tingkat_gaji                   8018 non-null   object \n",
      " 8   resign                         8018 non-null   int64  \n",
      " 9   lama_di_perusahaan_num         8018 non-null   float64\n",
      "dtypes: float64(3), int64(2), object(5)\n",
      "memory usage: 689.0+ KB\n"
     ]
    }
   ],
   "source": [
    "train2.info()"
   ]
  },
  {
   "cell_type": "code",
   "execution_count": 184,
   "metadata": {
    "colab": {
     "base_uri": "https://localhost:8080/"
    },
    "id": "7auiKqDJ_yZi",
    "outputId": "7fd2a24a-6547-4bc2-b498-eb4b37d6f7ac"
   },
   "outputs": [
    {
     "name": "stderr",
     "output_type": "stream",
     "text": [
      "/usr/local/lib/python3.7/dist-packages/ipykernel_launcher.py:5: SettingWithCopyWarning: \n",
      "A value is trying to be set on a copy of a slice from a DataFrame.\n",
      "Try using .loc[row_indexer,col_indexer] = value instead\n",
      "\n",
      "See the caveats in the documentation: https://pandas.pydata.org/pandas-docs/stable/user_guide/indexing.html#returning-a-view-versus-a-copy\n",
      "  \"\"\"\n",
      "/usr/local/lib/python3.7/dist-packages/pandas/core/indexing.py:1734: SettingWithCopyWarning: \n",
      "A value is trying to be set on a copy of a slice from a DataFrame.\n",
      "Try using .loc[row_indexer,col_indexer] = value instead\n",
      "\n",
      "See the caveats in the documentation: https://pandas.pydata.org/pandas-docs/stable/user_guide/indexing.html#returning-a-view-versus-a-copy\n",
      "  isetter(loc, value[:, i].tolist())\n"
     ]
    }
   ],
   "source": [
    "#Normalisasi variabel metrik - train\n",
    "modeltraindrop = train2\n",
    "scaler = MinMaxScaler()\n",
    "scaler.fit(modeltraindrop[scaled_cols])\n",
    "modeltraindrop[scaled_cols] = scaler.transform(modeltraindrop[scaled_cols])"
   ]
  },
  {
   "cell_type": "code",
   "execution_count": 185,
   "metadata": {
    "colab": {
     "base_uri": "https://localhost:8080/"
    },
    "id": "sZBCQvHB_I5R",
    "outputId": "00438ca0-51fc-4aa3-da1f-605027659f16"
   },
   "outputs": [
    {
     "name": "stdout",
     "output_type": "stream",
     "text": [
      "<class 'pandas.core.frame.DataFrame'>\n",
      "Int64Index: 8018 entries, 0 to 10048\n",
      "Data columns (total 23 columns):\n",
      " #   Column                         Non-Null Count  Dtype  \n",
      "---  ------                         --------------  -----  \n",
      " 0   resign                         8018 non-null   int64  \n",
      " 1   level_Internship               8018 non-null   uint8  \n",
      " 2   level_Junior                   8018 non-null   uint8  \n",
      " 3   level_Part-Time                8018 non-null   uint8  \n",
      " 4   level_Probation                8018 non-null   uint8  \n",
      " 5   level_Senior                   8018 non-null   uint8  \n",
      " 6   divisi_RandD                   8018 non-null   uint8  \n",
      " 7   divisi_accounting              8018 non-null   uint8  \n",
      " 8   divisi_hr                      8018 non-null   uint8  \n",
      " 9   divisi_management              8018 non-null   uint8  \n",
      " 10  divisi_marketing               8018 non-null   uint8  \n",
      " 11  divisi_product_mng             8018 non-null   uint8  \n",
      " 12  divisi_sales                   8018 non-null   uint8  \n",
      " 13  divisi_support                 8018 non-null   uint8  \n",
      " 14  divisi_technical               8018 non-null   uint8  \n",
      " 15  kecelakaan_kerja_pernah        8018 non-null   uint8  \n",
      " 16  promosi_5thn_lalu_sudah        8018 non-null   uint8  \n",
      " 17  tingkat_gaji_sedang            8018 non-null   uint8  \n",
      " 18  tingkat_gaji_tinggi            8018 non-null   uint8  \n",
      " 19  rerata_jam_bulanan             8018 non-null   float64\n",
      " 20  tingkat_kepuasan_bekerja       8018 non-null   float64\n",
      " 21  jumlah_proyek_yang_dikerjakan  8018 non-null   float64\n",
      " 22  lama_di_perusahaan_num         8018 non-null   float64\n",
      "dtypes: float64(4), int64(1), uint8(18)\n",
      "memory usage: 516.8 KB\n"
     ]
    }
   ],
   "source": [
    "catttest = ['resign','level','divisi','kecelakaan_kerja','promosi_5thn_lalu','tingkat_gaji']\n",
    "nummtest = ['rerata_jam_bulanan','tingkat_kepuasan_bekerja','jumlah_proyek_yang_dikerjakan','lama_di_perusahaan_num']\n",
    "categorical_dftest = pd.get_dummies(modeltraindrop[catttest], drop_first=True)\n",
    "numerical_dftest = modeltraindrop[nummtest]\n",
    "modeltraindrop = pd.concat([categorical_dftest,numerical_dftest], axis=1)\n",
    "modeltraindrop.head()\n",
    "modeltraindrop.info()"
   ]
  },
  {
   "cell_type": "markdown",
   "metadata": {
    "id": "UX_2DF4a_FGG"
   },
   "source": [
    "Ngebagi dataset test"
   ]
  },
  {
   "cell_type": "code",
   "execution_count": 186,
   "metadata": {
    "id": "HKCjII9nFquF"
   },
   "outputs": [],
   "source": [
    "#Normalisasi variabel metrik - train\n",
    "a = test\n",
    "catttest = ['resign','level','divisi','kecelakaan_kerja','promosi_5thn_lalu','tingkat_gaji']\n",
    "nummtest = ['rerata_jam_bulanan','tingkat_kepuasan_bekerja','jumlah_proyek_yang_dikerjakan','lama_di_perusahaan_num']\n",
    "scaler = MinMaxScaler()\n",
    "scaler.fit(a[scaled_cols])\n",
    "a[scaled_cols] = scaler.transform(a[scaled_cols])"
   ]
  },
  {
   "cell_type": "code",
   "execution_count": 187,
   "metadata": {
    "colab": {
     "base_uri": "https://localhost:8080/"
    },
    "id": "EL4o2vWLI6Wx",
    "outputId": "07df5a26-f5c5-42db-c9e6-7f7b6cdf7b58"
   },
   "outputs": [
    {
     "name": "stdout",
     "output_type": "stream",
     "text": [
      "<class 'pandas.core.frame.DataFrame'>\n",
      "RangeIndex: 4950 entries, 0 to 4949\n",
      "Data columns (total 17 columns):\n",
      " #   Column                         Non-Null Count  Dtype  \n",
      "---  ------                         --------------  -----  \n",
      " 0   employee_id                    4950 non-null   int64  \n",
      " 1   umur                           1070 non-null   float64\n",
      " 2   jenis_kelamin                  4950 non-null   object \n",
      " 3   IPK                            4950 non-null   float64\n",
      " 4   level                          4950 non-null   object \n",
      " 5   tahun_lulus                    1151 non-null   float64\n",
      " 6   status_perkawinan              4950 non-null   object \n",
      " 7   divisi                         4950 non-null   object \n",
      " 8   rerata_jam_bulanan             4362 non-null   float64\n",
      " 9   tingkat_kepuasan_bekerja       4484 non-null   float64\n",
      " 10  nilai_evaluasi_terakhir        4094 non-null   float64\n",
      " 11  jumlah_proyek_yang_dikerjakan  4950 non-null   float64\n",
      " 12  lama_di_perusahaan             4950 non-null   object \n",
      " 13  kecelakaan_kerja               4950 non-null   object \n",
      " 14  promosi_5thn_lalu              4950 non-null   object \n",
      " 15  tingkat_gaji                   4950 non-null   object \n",
      " 16  lama_di_perusahaan_num         4950 non-null   float64\n",
      "dtypes: float64(8), int64(1), object(8)\n",
      "memory usage: 657.5+ KB\n"
     ]
    }
   ],
   "source": [
    "a.info()"
   ]
  },
  {
   "cell_type": "markdown",
   "metadata": {
    "id": "Dvb_niWsLI04"
   },
   "source": [
    "Tanpa Missing Value"
   ]
  },
  {
   "cell_type": "code",
   "execution_count": 188,
   "metadata": {
    "colab": {
     "base_uri": "https://localhost:8080/"
    },
    "id": "CofatzIzIfSj",
    "outputId": "c08c91aa-fd84-4110-e7f7-92d21765e7d2"
   },
   "outputs": [
    {
     "name": "stdout",
     "output_type": "stream",
     "text": [
      "<class 'pandas.core.frame.DataFrame'>\n",
      "Int64Index: 3269 entries, 0 to 4949\n",
      "Data columns (total 22 columns):\n",
      " #   Column                         Non-Null Count  Dtype  \n",
      "---  ------                         --------------  -----  \n",
      " 0   level_Internship               3269 non-null   uint8  \n",
      " 1   level_Junior                   3269 non-null   uint8  \n",
      " 2   level_Part-Time                3269 non-null   uint8  \n",
      " 3   level_Probation                3269 non-null   uint8  \n",
      " 4   level_Senior                   3269 non-null   uint8  \n",
      " 5   divisi_RandD                   3269 non-null   uint8  \n",
      " 6   divisi_accounting              3269 non-null   uint8  \n",
      " 7   divisi_hr                      3269 non-null   uint8  \n",
      " 8   divisi_management              3269 non-null   uint8  \n",
      " 9   divisi_marketing               3269 non-null   uint8  \n",
      " 10  divisi_product_mng             3269 non-null   uint8  \n",
      " 11  divisi_sales                   3269 non-null   uint8  \n",
      " 12  divisi_support                 3269 non-null   uint8  \n",
      " 13  divisi_technical               3269 non-null   uint8  \n",
      " 14  kecelakaan_kerja_pernah        3269 non-null   uint8  \n",
      " 15  promosi_5thn_lalu_sudah        3269 non-null   uint8  \n",
      " 16  tingkat_gaji_sedang            3269 non-null   uint8  \n",
      " 17  tingkat_gaji_tinggi            3269 non-null   uint8  \n",
      " 18  rerata_jam_bulanan             3269 non-null   float64\n",
      " 19  tingkat_kepuasan_bekerja       3269 non-null   float64\n",
      " 20  jumlah_proyek_yang_dikerjakan  3269 non-null   float64\n",
      " 21  lama_di_perusahaan_num         3269 non-null   float64\n",
      "dtypes: float64(4), uint8(18)\n",
      "memory usage: 185.2 KB\n"
     ]
    }
   ],
   "source": [
    "#Row tanpa missing value\n",
    "#Menghapus kolom tidak relevan\n",
    "c = a\n",
    "c = c.drop(columns = ['umur','tahun_lulus','lama_di_perusahaan'])\n",
    "c1 = c.dropna(how='any')\n",
    "c1e = c1\n",
    "#Membuat variabel dummy untuk kategorikal - test\n",
    "catttest = ['level','divisi','kecelakaan_kerja','promosi_5thn_lalu','tingkat_gaji']\n",
    "nummtest = ['rerata_jam_bulanan','tingkat_kepuasan_bekerja','jumlah_proyek_yang_dikerjakan','lama_di_perusahaan_num']\n",
    "categorical_dftest = pd.get_dummies(c1[catttest], drop_first=True)\n",
    "numerical_dftest = c1[nummtest]\n",
    "c1 = pd.concat([categorical_dftest,numerical_dftest], axis=1)\n",
    "c1.head()\n",
    "c1.info()"
   ]
  },
  {
   "cell_type": "code",
   "execution_count": 189,
   "metadata": {
    "id": "ZEEdKMjuFwia"
   },
   "outputs": [],
   "source": [
    "#Mengambil row dengan missing value\n",
    "b = a[(a[\"tingkat_kepuasan_bekerja\"].isna())|(a[\"rerata_jam_bulanan\"].isna())|(a[\"nilai_evaluasi_terakhir\"].isna())]\n",
    "#Menghapus kolom tidak relevan\n",
    "b1 = b.drop(columns = ['umur','tahun_lulus','lama_di_perusahaan'])"
   ]
  },
  {
   "cell_type": "code",
   "execution_count": 190,
   "metadata": {
    "colab": {
     "base_uri": "https://localhost:8080/"
    },
    "id": "cL3Ik_6h94iS",
    "outputId": "76b5ce82-8e56-4ba9-d727-9f01ec590fd1"
   },
   "outputs": [
    {
     "name": "stdout",
     "output_type": "stream",
     "text": [
      "0.23084251832532388\n"
     ]
    }
   ],
   "source": [
    "meanRJB = a[\"rerata_jam_bulanan\"].mean()\n",
    "print(meanRJB)"
   ]
  },
  {
   "cell_type": "code",
   "execution_count": 191,
   "metadata": {
    "colab": {
     "base_uri": "https://localhost:8080/"
    },
    "id": "vSPg9vuj98rN",
    "outputId": "17fa5b0f-133c-4444-a7ac-1ce9af53d61c"
   },
   "outputs": [
    {
     "name": "stdout",
     "output_type": "stream",
     "text": [
      "employee_id                        0\n",
      "jenis_kelamin                      0\n",
      "IPK                                0\n",
      "level                              0\n",
      "status_perkawinan                  0\n",
      "divisi                             0\n",
      "rerata_jam_bulanan               588\n",
      "tingkat_kepuasan_bekerja         466\n",
      "nilai_evaluasi_terakhir          856\n",
      "jumlah_proyek_yang_dikerjakan      0\n",
      "kecelakaan_kerja                   0\n",
      "promosi_5thn_lalu                  0\n",
      "tingkat_gaji                       0\n",
      "lama_di_perusahaan_num             0\n",
      "dtype: int64\n",
      "(1681, 14)\n"
     ]
    }
   ],
   "source": [
    "print(b1.isna().sum())\n",
    "print(b1.shape)"
   ]
  },
  {
   "cell_type": "markdown",
   "metadata": {
    "id": "p_BpPVpwJXW-"
   },
   "source": [
    "Missing value non TKB"
   ]
  },
  {
   "cell_type": "code",
   "execution_count": 192,
   "metadata": {
    "colab": {
     "base_uri": "https://localhost:8080/"
    },
    "id": "ri_MAZEzCZiY",
    "outputId": "1a0e46dd-7c04-4914-b05e-237465796ab0"
   },
   "outputs": [
    {
     "name": "stdout",
     "output_type": "stream",
     "text": [
      "<class 'pandas.core.frame.DataFrame'>\n",
      "Int64Index: 1215 entries, 7 to 4948\n",
      "Data columns (total 21 columns):\n",
      " #   Column                         Non-Null Count  Dtype  \n",
      "---  ------                         --------------  -----  \n",
      " 0   level_Internship               1215 non-null   uint8  \n",
      " 1   level_Junior                   1215 non-null   uint8  \n",
      " 2   level_Part-Time                1215 non-null   uint8  \n",
      " 3   level_Probation                1215 non-null   uint8  \n",
      " 4   level_Senior                   1215 non-null   uint8  \n",
      " 5   divisi_RandD                   1215 non-null   uint8  \n",
      " 6   divisi_accounting              1215 non-null   uint8  \n",
      " 7   divisi_hr                      1215 non-null   uint8  \n",
      " 8   divisi_management              1215 non-null   uint8  \n",
      " 9   divisi_marketing               1215 non-null   uint8  \n",
      " 10  divisi_product_mng             1215 non-null   uint8  \n",
      " 11  divisi_sales                   1215 non-null   uint8  \n",
      " 12  divisi_support                 1215 non-null   uint8  \n",
      " 13  divisi_technical               1215 non-null   uint8  \n",
      " 14  kecelakaan_kerja_pernah        1215 non-null   uint8  \n",
      " 15  promosi_5thn_lalu_sudah        1215 non-null   uint8  \n",
      " 16  tingkat_gaji_sedang            1215 non-null   uint8  \n",
      " 17  tingkat_gaji_tinggi            1215 non-null   uint8  \n",
      " 18  tingkat_kepuasan_bekerja       1215 non-null   float64\n",
      " 19  jumlah_proyek_yang_dikerjakan  1215 non-null   float64\n",
      " 20  lama_di_perusahaan_num         1215 non-null   float64\n",
      "dtypes: float64(3), uint8(18)\n",
      "memory usage: 59.3 KB\n"
     ]
    }
   ],
   "source": [
    "b2 = b1[b1[\"tingkat_kepuasan_bekerja\"].notna()]\n",
    "b2e = b2\n",
    "#Membuat variabel dummy untuk kategorikal - test\n",
    "catttest = ['level','divisi','kecelakaan_kerja','promosi_5thn_lalu','tingkat_gaji']\n",
    "nummtest = ['tingkat_kepuasan_bekerja','jumlah_proyek_yang_dikerjakan','lama_di_perusahaan_num']\n",
    "categorical_dftest = pd.get_dummies(b2[catttest], drop_first=True)\n",
    "numerical_dftest = b2[nummtest]\n",
    "b2 = pd.concat([categorical_dftest,numerical_dftest], axis=1)\n",
    "b2.head()\n",
    "b2.info()"
   ]
  },
  {
   "cell_type": "markdown",
   "metadata": {
    "id": "zHCSWzVPJThA"
   },
   "source": [
    "Missing Value TKB"
   ]
  },
  {
   "cell_type": "code",
   "execution_count": 193,
   "metadata": {
    "colab": {
     "base_uri": "https://localhost:8080/"
    },
    "id": "Dv4kZfTVEob4",
    "outputId": "cabab32b-ce58-4adc-dacd-f11730c31497"
   },
   "outputs": [
    {
     "name": "stdout",
     "output_type": "stream",
     "text": [
      "<class 'pandas.core.frame.DataFrame'>\n",
      "Int64Index: 466 entries, 5 to 4936\n",
      "Data columns (total 21 columns):\n",
      " #   Column                         Non-Null Count  Dtype  \n",
      "---  ------                         --------------  -----  \n",
      " 0   level_Internship               466 non-null    uint8  \n",
      " 1   level_Junior                   466 non-null    uint8  \n",
      " 2   level_Part-Time                466 non-null    uint8  \n",
      " 3   level_Probation                466 non-null    uint8  \n",
      " 4   level_Senior                   466 non-null    uint8  \n",
      " 5   divisi_RandD                   466 non-null    uint8  \n",
      " 6   divisi_accounting              466 non-null    uint8  \n",
      " 7   divisi_hr                      466 non-null    uint8  \n",
      " 8   divisi_management              466 non-null    uint8  \n",
      " 9   divisi_marketing               466 non-null    uint8  \n",
      " 10  divisi_product_mng             466 non-null    uint8  \n",
      " 11  divisi_sales                   466 non-null    uint8  \n",
      " 12  divisi_support                 466 non-null    uint8  \n",
      " 13  divisi_technical               466 non-null    uint8  \n",
      " 14  kecelakaan_kerja_pernah        466 non-null    uint8  \n",
      " 15  promosi_5thn_lalu_sudah        466 non-null    uint8  \n",
      " 16  tingkat_gaji_sedang            466 non-null    uint8  \n",
      " 17  tingkat_gaji_tinggi            466 non-null    uint8  \n",
      " 18  rerata_jam_bulanan             408 non-null    float64\n",
      " 19  jumlah_proyek_yang_dikerjakan  466 non-null    float64\n",
      " 20  lama_di_perusahaan_num         466 non-null    float64\n",
      "dtypes: float64(3), uint8(18)\n",
      "memory usage: 22.8 KB\n"
     ]
    }
   ],
   "source": [
    "b3 = b1[b1[\"tingkat_kepuasan_bekerja\"].isna()]\n",
    "b4e=b3\n",
    "#Membuat variabel dummy untuk kategorikal - test\n",
    "catttest = ['level','divisi','kecelakaan_kerja','promosi_5thn_lalu','tingkat_gaji']\n",
    "nummtest = ['rerata_jam_bulanan','jumlah_proyek_yang_dikerjakan','lama_di_perusahaan_num']\n",
    "categorical_dftest = pd.get_dummies(b3[catttest], drop_first=True)\n",
    "numerical_dftest = b3[nummtest]\n",
    "b3 = pd.concat([categorical_dftest,numerical_dftest], axis=1)\n",
    "b3.head()\n",
    "b3.info()"
   ]
  },
  {
   "cell_type": "code",
   "execution_count": 194,
   "metadata": {
    "id": "iVOCwuB2E3Tb"
   },
   "outputs": [],
   "source": [
    "#Imputasi missing data menggunakan mean - test\n",
    "from sklearn.impute import SimpleImputer\n",
    "RJB = SimpleImputer(strategy='constant',fill_value=meanRJB)\n",
    "b3['rerata_jam_bulanan'] = RJB.fit_transform(b3['rerata_jam_bulanan'].values.reshape(-1,1))"
   ]
  },
  {
   "cell_type": "code",
   "execution_count": 195,
   "metadata": {
    "colab": {
     "base_uri": "https://localhost:8080/"
    },
    "id": "bnejS-A9G0IO",
    "outputId": "2545698c-6845-4e6a-ead5-f7fc50696207"
   },
   "outputs": [
    {
     "name": "stdout",
     "output_type": "stream",
     "text": [
      "<class 'pandas.core.frame.DataFrame'>\n",
      "Int64Index: 466 entries, 5 to 4936\n",
      "Data columns (total 21 columns):\n",
      " #   Column                         Non-Null Count  Dtype  \n",
      "---  ------                         --------------  -----  \n",
      " 0   level_Internship               466 non-null    uint8  \n",
      " 1   level_Junior                   466 non-null    uint8  \n",
      " 2   level_Part-Time                466 non-null    uint8  \n",
      " 3   level_Probation                466 non-null    uint8  \n",
      " 4   level_Senior                   466 non-null    uint8  \n",
      " 5   divisi_RandD                   466 non-null    uint8  \n",
      " 6   divisi_accounting              466 non-null    uint8  \n",
      " 7   divisi_hr                      466 non-null    uint8  \n",
      " 8   divisi_management              466 non-null    uint8  \n",
      " 9   divisi_marketing               466 non-null    uint8  \n",
      " 10  divisi_product_mng             466 non-null    uint8  \n",
      " 11  divisi_sales                   466 non-null    uint8  \n",
      " 12  divisi_support                 466 non-null    uint8  \n",
      " 13  divisi_technical               466 non-null    uint8  \n",
      " 14  kecelakaan_kerja_pernah        466 non-null    uint8  \n",
      " 15  promosi_5thn_lalu_sudah        466 non-null    uint8  \n",
      " 16  tingkat_gaji_sedang            466 non-null    uint8  \n",
      " 17  tingkat_gaji_tinggi            466 non-null    uint8  \n",
      " 18  rerata_jam_bulanan             466 non-null    float64\n",
      " 19  jumlah_proyek_yang_dikerjakan  466 non-null    float64\n",
      " 20  lama_di_perusahaan_num         466 non-null    float64\n",
      "dtypes: float64(3), uint8(18)\n",
      "memory usage: 22.8 KB\n"
     ]
    }
   ],
   "source": [
    "b4 = b3\n",
    "b4.info()"
   ]
  },
  {
   "cell_type": "markdown",
   "metadata": {
    "id": "VE3PjZgo22Aw"
   },
   "source": [
    "# **Modelling**"
   ]
  },
  {
   "cell_type": "code",
   "execution_count": 196,
   "metadata": {
    "id": "AnB8qGnUxOmN"
   },
   "outputs": [],
   "source": [
    "from sklearn.linear_model import LogisticRegression\n",
    "from sklearn.preprocessing import LabelEncoder\n",
    "from sklearn.model_selection import train_test_split\n",
    "from sklearn.metrics import accuracy_score, classification_report, precision_score, recall_score, confusion_matrix, precision_recall_curve\n",
    "from sklearn.metrics import roc_auc_score\n",
    "from sklearn.metrics import classification_report\n",
    "from sklearn.ensemble import RandomForestClassifier\n",
    "from sklearn import tree\n",
    "from sklearn.tree import DecisionTreeClassifier\n",
    "from sklearn.discriminant_analysis import LinearDiscriminantAnalysis"
   ]
  },
  {
   "cell_type": "markdown",
   "metadata": {
    "id": "y1KeH8p3HbXF"
   },
   "source": [
    "Missing value TKB - imputasi"
   ]
  },
  {
   "cell_type": "code",
   "execution_count": 197,
   "metadata": {
    "id": "FIl7MSnKk_LE"
   },
   "outputs": [],
   "source": [
    "#Penentuan y\n",
    "target_name = 'resign'\n",
    "X = modeldf.drop('resign', axis = 1)\n",
    "X = X.drop('tingkat_kepuasan_bekerja', axis = 1)\n",
    "y = modeldf[target_name]\n",
    "#Ukuran train untuk pembuatan model\n",
    "X_train, X_val, y_train, y_val = train_test_split(X,y,test_size=0.1, random_state=42)"
   ]
  },
  {
   "cell_type": "markdown",
   "metadata": {
    "id": "6_9lgkstNzIi"
   },
   "source": [
    "Missing Value non TKB"
   ]
  },
  {
   "cell_type": "code",
   "execution_count": 243,
   "metadata": {
    "id": "lDr7QW8sHaL2"
   },
   "outputs": [],
   "source": [
    "#Penentuan y\n",
    "target_name = 'resign'\n",
    "X = modeltraindrop.drop('resign', axis = 1)\n",
    "X = X.drop('rerata_jam_bulanan', axis = 1)\n",
    "y = modeltraindrop[target_name]\n",
    "#Ukuran train untuk pembuatan model\n",
    "X_train2, X_val2, y_train2, y_val2 = train_test_split(X,y,test_size=0.1, random_state=42)"
   ]
  },
  {
   "cell_type": "markdown",
   "metadata": {
    "id": "EloKVn-BRTwr"
   },
   "source": [
    "No Missing Value"
   ]
  },
  {
   "cell_type": "code",
   "execution_count": 199,
   "metadata": {
    "id": "TmsPaa2VOGOb"
   },
   "outputs": [],
   "source": [
    "#Penentuan y\n",
    "target_name = 'resign'\n",
    "X = modeltraindrop.drop('resign', axis = 1)\n",
    "y = modeltraindrop[target_name]\n",
    "#Ukuran train untuk pembuatan model\n",
    "X_train3, X_val3, y_train3, y_val3 = train_test_split(X,y,test_size=0.1, random_state=42)"
   ]
  },
  {
   "cell_type": "markdown",
   "metadata": {
    "id": "VVoSdfGW5vgP"
   },
   "source": [
    "## Random Forest Classifier"
   ]
  },
  {
   "cell_type": "code",
   "execution_count": 244,
   "metadata": {
    "colab": {
     "base_uri": "https://localhost:8080/"
    },
    "id": "jTqsqovqiO64",
    "outputId": "a07d970b-3a45-4f73-e205-3dd2fd7043a5"
   },
   "outputs": [
    {
     "name": "stdout",
     "output_type": "stream",
     "text": [
      "<class 'pandas.core.frame.DataFrame'>\n",
      "Int64Index: 1215 entries, 7 to 4948\n",
      "Data columns (total 21 columns):\n",
      " #   Column                         Non-Null Count  Dtype  \n",
      "---  ------                         --------------  -----  \n",
      " 0   level_Internship               1215 non-null   uint8  \n",
      " 1   level_Junior                   1215 non-null   uint8  \n",
      " 2   level_Part-Time                1215 non-null   uint8  \n",
      " 3   level_Probation                1215 non-null   uint8  \n",
      " 4   level_Senior                   1215 non-null   uint8  \n",
      " 5   divisi_RandD                   1215 non-null   uint8  \n",
      " 6   divisi_accounting              1215 non-null   uint8  \n",
      " 7   divisi_hr                      1215 non-null   uint8  \n",
      " 8   divisi_management              1215 non-null   uint8  \n",
      " 9   divisi_marketing               1215 non-null   uint8  \n",
      " 10  divisi_product_mng             1215 non-null   uint8  \n",
      " 11  divisi_sales                   1215 non-null   uint8  \n",
      " 12  divisi_support                 1215 non-null   uint8  \n",
      " 13  divisi_technical               1215 non-null   uint8  \n",
      " 14  kecelakaan_kerja_pernah        1215 non-null   uint8  \n",
      " 15  promosi_5thn_lalu_sudah        1215 non-null   uint8  \n",
      " 16  tingkat_gaji_sedang            1215 non-null   uint8  \n",
      " 17  tingkat_gaji_tinggi            1215 non-null   uint8  \n",
      " 18  tingkat_kepuasan_bekerja       1215 non-null   float64\n",
      " 19  jumlah_proyek_yang_dikerjakan  1215 non-null   float64\n",
      " 20  lama_di_perusahaan_num         1215 non-null   float64\n",
      "dtypes: float64(3), uint8(18)\n",
      "memory usage: 59.3 KB\n"
     ]
    }
   ],
   "source": [
    "b2.info()"
   ]
  },
  {
   "cell_type": "code",
   "execution_count": 246,
   "metadata": {
    "colab": {
     "base_uri": "https://localhost:8080/"
    },
    "id": "uFu9n-bXjX5I",
    "outputId": "f7b06903-ffe9-4126-c62a-b2d8a05406b1"
   },
   "outputs": [
    {
     "name": "stdout",
     "output_type": "stream",
     "text": [
      "<class 'pandas.core.frame.DataFrame'>\n",
      "Int64Index: 7216 entries, 7190 to 9118\n",
      "Data columns (total 21 columns):\n",
      " #   Column                         Non-Null Count  Dtype  \n",
      "---  ------                         --------------  -----  \n",
      " 0   level_Internship               7216 non-null   uint8  \n",
      " 1   level_Junior                   7216 non-null   uint8  \n",
      " 2   level_Part-Time                7216 non-null   uint8  \n",
      " 3   level_Probation                7216 non-null   uint8  \n",
      " 4   level_Senior                   7216 non-null   uint8  \n",
      " 5   divisi_RandD                   7216 non-null   uint8  \n",
      " 6   divisi_accounting              7216 non-null   uint8  \n",
      " 7   divisi_hr                      7216 non-null   uint8  \n",
      " 8   divisi_management              7216 non-null   uint8  \n",
      " 9   divisi_marketing               7216 non-null   uint8  \n",
      " 10  divisi_product_mng             7216 non-null   uint8  \n",
      " 11  divisi_sales                   7216 non-null   uint8  \n",
      " 12  divisi_support                 7216 non-null   uint8  \n",
      " 13  divisi_technical               7216 non-null   uint8  \n",
      " 14  kecelakaan_kerja_pernah        7216 non-null   uint8  \n",
      " 15  promosi_5thn_lalu_sudah        7216 non-null   uint8  \n",
      " 16  tingkat_gaji_sedang            7216 non-null   uint8  \n",
      " 17  tingkat_gaji_tinggi            7216 non-null   uint8  \n",
      " 18  tingkat_kepuasan_bekerja       7216 non-null   float64\n",
      " 19  jumlah_proyek_yang_dikerjakan  7216 non-null   float64\n",
      " 20  lama_di_perusahaan_num         7216 non-null   float64\n",
      "dtypes: float64(3), uint8(18)\n",
      "memory usage: 352.3 KB\n"
     ]
    }
   ],
   "source": [
    "X_train2.info()"
   ]
  },
  {
   "cell_type": "markdown",
   "metadata": {
    "id": "dnwmgt4JHUFP"
   },
   "source": [
    "### Missing value TKB - imputasi"
   ]
  },
  {
   "cell_type": "code",
   "execution_count": 247,
   "metadata": {
    "colab": {
     "base_uri": "https://localhost:8080/"
    },
    "id": "1PBZQIuO0d6G",
    "outputId": "49c4d850-d5cf-43d9-ca4c-16981faef811"
   },
   "outputs": [
    {
     "name": "stdout",
     "output_type": "stream",
     "text": [
      "---Random Forest Model---\n",
      "Random Forest AUC = 0.91\n",
      "              precision    recall  f1-score   support\n",
      "\n",
      "           0       0.95      0.95      0.95       755\n",
      "           1       0.86      0.86      0.86       250\n",
      "\n",
      "    accuracy                           0.93      1005\n",
      "   macro avg       0.91      0.91      0.91      1005\n",
      "weighted avg       0.93      0.93      0.93      1005\n",
      "\n"
     ]
    }
   ],
   "source": [
    "#Pembuatan model - semua variabel\n",
    "rf = RandomForestClassifier(\n",
    "    criterion='gini',\n",
    "    class_weight=\"balanced\"\n",
    "    )\n",
    "rf.fit(X_train, y_train)\n",
    "print (\"---Random Forest Model---\")\n",
    "rf_roc_auc = roc_auc_score(y_val, rf.predict(X_val))\n",
    "print (\"Random Forest AUC = %2.2f\" % rf_roc_auc)\n",
    "print(classification_report(y_val, rf.predict(X_val)))"
   ]
  },
  {
   "cell_type": "code",
   "execution_count": 248,
   "metadata": {
    "colab": {
     "base_uri": "https://localhost:8080/"
    },
    "id": "CfxywvA8j3ss",
    "outputId": "0fffa663-5a81-472c-88d1-88ab50114fac"
   },
   "outputs": [
    {
     "name": "stdout",
     "output_type": "stream",
     "text": [
      "Accuracy score\n",
      "0.9313432835820895\n",
      "ROC AUC Score\n",
      "0.9088211920529801\n"
     ]
    }
   ],
   "source": [
    "pred = rf.predict(X_val)\n",
    "print(\"Accuracy score\")\n",
    "print(accuracy_score(y_val,pred))\n",
    "print(\"ROC AUC Score\")\n",
    "print(roc_auc_score(y_val,pred))"
   ]
  },
  {
   "cell_type": "code",
   "execution_count": 249,
   "metadata": {
    "id": "XD1QnMSrUdxf"
   },
   "outputs": [],
   "source": [
    "#Pembuatan prediksi\n",
    "predictions = rf.predict(b4)"
   ]
  },
  {
   "cell_type": "code",
   "execution_count": 250,
   "metadata": {
    "id": "_CYvIi1dVge9"
   },
   "outputs": [],
   "source": [
    "#Output\n",
    "output = pd.DataFrame({'employee_id':b4e.employee_id,'resign':predictions})\n",
    "output.to_csv('modelbaru_1(15pm)).csv',index = False)"
   ]
  },
  {
   "cell_type": "code",
   "execution_count": 251,
   "metadata": {
    "colab": {
     "base_uri": "https://localhost:8080/",
     "height": 422
    },
    "id": "0OHA-y9lvS22",
    "outputId": "9230bf5d-d9cf-4a9c-8d02-ba8813719d6d"
   },
   "outputs": [
    {
     "data": {
      "text/html": [
       "<div>\n",
       "<style scoped>\n",
       "    .dataframe tbody tr th:only-of-type {\n",
       "        vertical-align: middle;\n",
       "    }\n",
       "\n",
       "    .dataframe tbody tr th {\n",
       "        vertical-align: top;\n",
       "    }\n",
       "\n",
       "    .dataframe thead th {\n",
       "        text-align: right;\n",
       "    }\n",
       "</style>\n",
       "<table border=\"1\" class=\"dataframe\">\n",
       "  <thead>\n",
       "    <tr style=\"text-align: right;\">\n",
       "      <th></th>\n",
       "      <th>employee_id</th>\n",
       "      <th>resign</th>\n",
       "    </tr>\n",
       "  </thead>\n",
       "  <tbody>\n",
       "    <tr>\n",
       "      <th>5</th>\n",
       "      <td>20054</td>\n",
       "      <td>0</td>\n",
       "    </tr>\n",
       "    <tr>\n",
       "      <th>32</th>\n",
       "      <td>20081</td>\n",
       "      <td>0</td>\n",
       "    </tr>\n",
       "    <tr>\n",
       "      <th>33</th>\n",
       "      <td>20082</td>\n",
       "      <td>0</td>\n",
       "    </tr>\n",
       "    <tr>\n",
       "      <th>36</th>\n",
       "      <td>20085</td>\n",
       "      <td>0</td>\n",
       "    </tr>\n",
       "    <tr>\n",
       "      <th>74</th>\n",
       "      <td>20123</td>\n",
       "      <td>0</td>\n",
       "    </tr>\n",
       "    <tr>\n",
       "      <th>...</th>\n",
       "      <td>...</td>\n",
       "      <td>...</td>\n",
       "    </tr>\n",
       "    <tr>\n",
       "      <th>4893</th>\n",
       "      <td>24942</td>\n",
       "      <td>0</td>\n",
       "    </tr>\n",
       "    <tr>\n",
       "      <th>4913</th>\n",
       "      <td>24962</td>\n",
       "      <td>0</td>\n",
       "    </tr>\n",
       "    <tr>\n",
       "      <th>4921</th>\n",
       "      <td>24970</td>\n",
       "      <td>0</td>\n",
       "    </tr>\n",
       "    <tr>\n",
       "      <th>4924</th>\n",
       "      <td>24973</td>\n",
       "      <td>0</td>\n",
       "    </tr>\n",
       "    <tr>\n",
       "      <th>4936</th>\n",
       "      <td>24985</td>\n",
       "      <td>0</td>\n",
       "    </tr>\n",
       "  </tbody>\n",
       "</table>\n",
       "<p>466 rows × 2 columns</p>\n",
       "</div>"
      ],
      "text/plain": [
       "      employee_id  resign\n",
       "5           20054       0\n",
       "32          20081       0\n",
       "33          20082       0\n",
       "36          20085       0\n",
       "74          20123       0\n",
       "...           ...     ...\n",
       "4893        24942       0\n",
       "4913        24962       0\n",
       "4921        24970       0\n",
       "4924        24973       0\n",
       "4936        24985       0\n",
       "\n",
       "[466 rows x 2 columns]"
      ]
     },
     "execution_count": 251,
     "metadata": {
      "tags": []
     },
     "output_type": "execute_result"
    }
   ],
   "source": [
    "output"
   ]
  },
  {
   "cell_type": "code",
   "execution_count": 252,
   "metadata": {
    "colab": {
     "base_uri": "https://localhost:8080/",
     "height": 705
    },
    "id": "S1uigmWRMINh",
    "outputId": "24491076-fe01-40a1-8d9b-c5170b996123"
   },
   "outputs": [
    {
     "data": {
      "text/html": [
       "<div>\n",
       "<style scoped>\n",
       "    .dataframe tbody tr th:only-of-type {\n",
       "        vertical-align: middle;\n",
       "    }\n",
       "\n",
       "    .dataframe tbody tr th {\n",
       "        vertical-align: top;\n",
       "    }\n",
       "\n",
       "    .dataframe thead th {\n",
       "        text-align: right;\n",
       "    }\n",
       "</style>\n",
       "<table border=\"1\" class=\"dataframe\">\n",
       "  <thead>\n",
       "    <tr style=\"text-align: right;\">\n",
       "      <th></th>\n",
       "      <th>index</th>\n",
       "      <th>importance</th>\n",
       "    </tr>\n",
       "  </thead>\n",
       "  <tbody>\n",
       "    <tr>\n",
       "      <th>0</th>\n",
       "      <td>lama_di_perusahaan_num</td>\n",
       "      <td>0.307668</td>\n",
       "    </tr>\n",
       "    <tr>\n",
       "      <th>1</th>\n",
       "      <td>jumlah_proyek_yang_dikerjakan</td>\n",
       "      <td>0.291238</td>\n",
       "    </tr>\n",
       "    <tr>\n",
       "      <th>2</th>\n",
       "      <td>rerata_jam_bulanan</td>\n",
       "      <td>0.250797</td>\n",
       "    </tr>\n",
       "    <tr>\n",
       "      <th>3</th>\n",
       "      <td>kecelakaan_kerja_pernah</td>\n",
       "      <td>0.025633</td>\n",
       "    </tr>\n",
       "    <tr>\n",
       "      <th>4</th>\n",
       "      <td>tingkat_gaji_tinggi</td>\n",
       "      <td>0.017701</td>\n",
       "    </tr>\n",
       "    <tr>\n",
       "      <th>5</th>\n",
       "      <td>tingkat_gaji_sedang</td>\n",
       "      <td>0.014154</td>\n",
       "    </tr>\n",
       "    <tr>\n",
       "      <th>6</th>\n",
       "      <td>level_Senior</td>\n",
       "      <td>0.008712</td>\n",
       "    </tr>\n",
       "    <tr>\n",
       "      <th>7</th>\n",
       "      <td>level_Junior</td>\n",
       "      <td>0.008518</td>\n",
       "    </tr>\n",
       "    <tr>\n",
       "      <th>8</th>\n",
       "      <td>divisi_sales</td>\n",
       "      <td>0.008491</td>\n",
       "    </tr>\n",
       "    <tr>\n",
       "      <th>9</th>\n",
       "      <td>level_Part-Time</td>\n",
       "      <td>0.008204</td>\n",
       "    </tr>\n",
       "    <tr>\n",
       "      <th>10</th>\n",
       "      <td>divisi_technical</td>\n",
       "      <td>0.007515</td>\n",
       "    </tr>\n",
       "    <tr>\n",
       "      <th>11</th>\n",
       "      <td>level_Internship</td>\n",
       "      <td>0.007138</td>\n",
       "    </tr>\n",
       "    <tr>\n",
       "      <th>12</th>\n",
       "      <td>level_Probation</td>\n",
       "      <td>0.007018</td>\n",
       "    </tr>\n",
       "    <tr>\n",
       "      <th>13</th>\n",
       "      <td>divisi_support</td>\n",
       "      <td>0.006866</td>\n",
       "    </tr>\n",
       "    <tr>\n",
       "      <th>14</th>\n",
       "      <td>divisi_hr</td>\n",
       "      <td>0.005115</td>\n",
       "    </tr>\n",
       "    <tr>\n",
       "      <th>15</th>\n",
       "      <td>divisi_accounting</td>\n",
       "      <td>0.004727</td>\n",
       "    </tr>\n",
       "    <tr>\n",
       "      <th>16</th>\n",
       "      <td>divisi_RandD</td>\n",
       "      <td>0.004723</td>\n",
       "    </tr>\n",
       "    <tr>\n",
       "      <th>17</th>\n",
       "      <td>divisi_product_mng</td>\n",
       "      <td>0.004049</td>\n",
       "    </tr>\n",
       "    <tr>\n",
       "      <th>18</th>\n",
       "      <td>promosi_5thn_lalu_sudah</td>\n",
       "      <td>0.004035</td>\n",
       "    </tr>\n",
       "    <tr>\n",
       "      <th>19</th>\n",
       "      <td>divisi_marketing</td>\n",
       "      <td>0.003974</td>\n",
       "    </tr>\n",
       "    <tr>\n",
       "      <th>20</th>\n",
       "      <td>divisi_management</td>\n",
       "      <td>0.003725</td>\n",
       "    </tr>\n",
       "  </tbody>\n",
       "</table>\n",
       "</div>"
      ],
      "text/plain": [
       "                            index  importance\n",
       "0          lama_di_perusahaan_num    0.307668\n",
       "1   jumlah_proyek_yang_dikerjakan    0.291238\n",
       "2              rerata_jam_bulanan    0.250797\n",
       "3         kecelakaan_kerja_pernah    0.025633\n",
       "4             tingkat_gaji_tinggi    0.017701\n",
       "5             tingkat_gaji_sedang    0.014154\n",
       "6                    level_Senior    0.008712\n",
       "7                    level_Junior    0.008518\n",
       "8                    divisi_sales    0.008491\n",
       "9                 level_Part-Time    0.008204\n",
       "10               divisi_technical    0.007515\n",
       "11               level_Internship    0.007138\n",
       "12                level_Probation    0.007018\n",
       "13                 divisi_support    0.006866\n",
       "14                      divisi_hr    0.005115\n",
       "15              divisi_accounting    0.004727\n",
       "16                   divisi_RandD    0.004723\n",
       "17             divisi_product_mng    0.004049\n",
       "18        promosi_5thn_lalu_sudah    0.004035\n",
       "19               divisi_marketing    0.003974\n",
       "20              divisi_management    0.003725"
      ]
     },
     "execution_count": 252,
     "metadata": {
      "tags": []
     },
     "output_type": "execute_result"
    }
   ],
   "source": [
    "feature_importances = pd.DataFrame(rf.feature_importances_,\n",
    "                                   index = X_train.columns,\n",
    "                                   columns=['importance']).sort_values('importance', ascending=False)\n",
    "feature_importances = feature_importances.reset_index()\n",
    "feature_importances"
   ]
  },
  {
   "cell_type": "code",
   "execution_count": 253,
   "metadata": {
    "colab": {
     "base_uri": "https://localhost:8080/",
     "height": 466
    },
    "id": "-SeQvIRSJyjH",
    "outputId": "1c9db3ed-38f0-4f59-d9d8-ca99da6c7544"
   },
   "outputs": [
    {
     "data": {
      "text/plain": [
       "<matplotlib.axes._subplots.AxesSubplot at 0x7f35e39adc50>"
      ]
     },
     "execution_count": 253,
     "metadata": {
      "tags": []
     },
     "output_type": "execute_result"
    },
    {
     "data": {
      "image/png": "[encoded data removed]",
      "text/plain": [
       "<Figure size 936x504 with 1 Axes>"
      ]
     },
     "metadata": {
      "tags": []
     },
     "output_type": "display_data"
    }
   ],
   "source": [
    "sns.set(style=\"whitegrid\")\n",
    "f, ax = plt.subplots(figsize=(13, 7))\n",
    "sns.barplot(x=\"importance\", y='index', data=feature_importances,\n",
    "            label=\"Total\", color=\"b\")"
   ]
  },
  {
   "cell_type": "markdown",
   "metadata": {
    "id": "_KZ5vHRQH7Ke"
   },
   "source": [
    "### Missing Value TKB - No Imputasi"
   ]
  },
  {
   "cell_type": "code",
   "execution_count": 254,
   "metadata": {
    "colab": {
     "base_uri": "https://localhost:8080/"
    },
    "id": "z3-h_CRgID_1",
    "outputId": "0e80e12d-c8dd-42f6-db8a-6f7addddd941"
   },
   "outputs": [
    {
     "name": "stdout",
     "output_type": "stream",
     "text": [
      "---Random Forest Model---\n",
      "Random Forest AUC = 0.94\n",
      "              precision    recall  f1-score   support\n",
      "\n",
      "           0       0.97      0.99      0.98       616\n",
      "           1       0.95      0.89      0.92       186\n",
      "\n",
      "    accuracy                           0.96       802\n",
      "   macro avg       0.96      0.94      0.95       802\n",
      "weighted avg       0.96      0.96      0.96       802\n",
      "\n"
     ]
    }
   ],
   "source": [
    "#Pembuatan model - semua variabel\n",
    "rf2 = RandomForestClassifier(\n",
    "    criterion='entropy',\n",
    "    class_weight=\"balanced\"\n",
    "    )\n",
    "rf2.fit(X_train2, y_train2)\n",
    "print (\"---Random Forest Model---\")\n",
    "rf2_roc_auc = roc_auc_score(y_val2, rf2.predict(X_val2))\n",
    "print (\"Random Forest AUC = %2.2f\" % rf2_roc_auc)\n",
    "print(classification_report(y_val2, rf2.predict(X_val2)))"
   ]
  },
  {
   "cell_type": "code",
   "execution_count": 255,
   "metadata": {
    "id": "1uxdZW-dO-PZ"
   },
   "outputs": [],
   "source": [
    "#Pembuatan prediksi\n",
    "predictions2 = rf2.predict(b2)"
   ]
  },
  {
   "cell_type": "code",
   "execution_count": 256,
   "metadata": {
    "id": "kcLjKBVJPAr-"
   },
   "outputs": [],
   "source": [
    "#Output\n",
    "output2 = pd.DataFrame({'employee_id':b2e.employee_id,'resign':predictions2})\n",
    "output2.to_csv('modelbaru_2(15pm)).csv',index = False)"
   ]
  },
  {
   "cell_type": "markdown",
   "metadata": {
    "id": "kBRyHRxPH8hA"
   },
   "source": [
    "### No Missing Value - No imputasi"
   ]
  },
  {
   "cell_type": "code",
   "execution_count": 257,
   "metadata": {
    "colab": {
     "base_uri": "https://localhost:8080/"
    },
    "id": "DTMPtD5WIEY1",
    "outputId": "06c19269-a72f-4d15-bbde-a40cb8d6c2f5"
   },
   "outputs": [
    {
     "name": "stdout",
     "output_type": "stream",
     "text": [
      "---Random Forest Model---\n",
      "Random Forest AUC = 0.95\n",
      "              precision    recall  f1-score   support\n",
      "\n",
      "           0       0.97      0.99      0.98       616\n",
      "           1       0.97      0.91      0.94       186\n",
      "\n",
      "    accuracy                           0.97       802\n",
      "   macro avg       0.97      0.95      0.96       802\n",
      "weighted avg       0.97      0.97      0.97       802\n",
      "\n"
     ]
    }
   ],
   "source": [
    "#Pembuatan model - semua variabel\n",
    "rf3 = RandomForestClassifier(\n",
    "    criterion='entropy',\n",
    "    class_weight=\"balanced\"\n",
    "    )\n",
    "rf3.fit(X_train3, y_train3)\n",
    "print (\"---Random Forest Model---\")\n",
    "rf3_roc_auc = roc_auc_score(y_val3, rf3.predict(X_val3))\n",
    "print (\"Random Forest AUC = %2.2f\" % rf3_roc_auc)\n",
    "print(classification_report(y_val3, rf3.predict(X_val3)))"
   ]
  },
  {
   "cell_type": "code",
   "execution_count": 258,
   "metadata": {
    "id": "2Cok2XJWPMMu"
   },
   "outputs": [],
   "source": [
    "#Pembuatan prediksi\n",
    "predictions = rf3.predict(c1)"
   ]
  },
  {
   "cell_type": "code",
   "execution_count": 259,
   "metadata": {
    "id": "VsIqRSqtPNrG"
   },
   "outputs": [],
   "source": [
    "#Output\n",
    "output3 = pd.DataFrame({'employee_id':c1e.employee_id,'resign':predictions})\n",
    "output3.to_csv('modelbaru_3(15pm)).csv',index = False)"
   ]
  },
  {
   "cell_type": "code",
   "execution_count": 260,
   "metadata": {
    "id": "aZ3vn18sP88o"
   },
   "outputs": [],
   "source": [
    "outputall = pd.concat([output,output2,output3],ignore_index=True)"
   ]
  },
  {
   "cell_type": "code",
   "execution_count": 267,
   "metadata": {
    "id": "K5HBfce2QZZ8"
   },
   "outputs": [],
   "source": [
    "#Output\n",
    "outputall.to_csv('modelbaru_all(9pm)).csv',index = False)"
   ]
  },
  {
   "cell_type": "code",
   "execution_count": 268,
   "metadata": {
    "colab": {
     "base_uri": "https://localhost:8080/"
    },
    "id": "it1Ln6kxRZ6R",
    "outputId": "81746b50-6ee7-4179-a4e0-c310faaf790a"
   },
   "outputs": [
    {
     "name": "stdout",
     "output_type": "stream",
     "text": [
      "<class 'pandas.core.frame.DataFrame'>\n",
      "RangeIndex: 4950 entries, 0 to 4949\n",
      "Data columns (total 2 columns):\n",
      " #   Column       Non-Null Count  Dtype\n",
      "---  ------       --------------  -----\n",
      " 0   employee_id  4950 non-null   int64\n",
      " 1   resign       4950 non-null   int64\n",
      "dtypes: int64(2)\n",
      "memory usage: 77.5 KB\n"
     ]
    }
   ],
   "source": [
    "outputall.info()"
   ]
  },
  {
   "cell_type": "code",
   "execution_count": 269,
   "metadata": {
    "colab": {
     "base_uri": "https://localhost:8080/"
    },
    "id": "qdX35fUBQfms",
    "outputId": "6e26d343-c961-43ca-9b3c-e7e2ba02e219"
   },
   "outputs": [
    {
     "name": "stdout",
     "output_type": "stream",
     "text": [
      "(466, 2)\n",
      "(1215, 2)\n",
      "(3269, 2)\n"
     ]
    }
   ],
   "source": [
    "print(output.shape)\n",
    "print(output2.shape)\n",
    "print(output3.shape)"
   ]
  },
  {
   "cell_type": "code",
   "execution_count": 270,
   "metadata": {
    "colab": {
     "base_uri": "https://localhost:8080/"
    },
    "id": "u_lGsHyvSQ9L",
    "outputId": "aab78ded-7fc8-41e0-b478-c9e6d42322ff"
   },
   "outputs": [
    {
     "data": {
      "text/plain": [
       "resign\n",
       "0    3828\n",
       "1    1122\n",
       "dtype: int64"
      ]
     },
     "execution_count": 270,
     "metadata": {
      "tags": []
     },
     "output_type": "execute_result"
    }
   ],
   "source": [
    "outputall.groupby(\"resign\").size()"
   ]
  },
  {
   "cell_type": "code",
   "execution_count": 265,
   "metadata": {
    "colab": {
     "base_uri": "https://localhost:8080/"
    },
    "id": "n82ZdqJXc6cR",
    "outputId": "ba3cba60-885b-409a-a1a4-d75f5b20ccb5"
   },
   "outputs": [
    {
     "data": {
      "text/plain": [
       "0.22666666666666666"
      ]
     },
     "execution_count": 265,
     "metadata": {
      "tags": []
     },
     "output_type": "execute_result"
    }
   ],
   "source": [
    "1122/4950"
   ]
  }
 ],
 "metadata": {
  "colab": {
   "collapsed_sections": [],
   "name": "Copy of DAC YOO.ipynb",
   "provenance": []
  },
  "kernelspec": {
   "display_name": "Python 3 (ipykernel)",
   "language": "python",
   "name": "python3"
  },
  "language_info": {
   "codemirror_mode": {
    "name": "ipython",
    "version": 3
   },
   "file_extension": ".py",
   "mimetype": "text/x-python",
   "name": "python",
   "nbconvert_exporter": "python",
   "pygments_lexer": "ipython3",
   "version": "3.10.9"
  }
 },
 "nbformat": 4,
 "nbformat_minor": 1
}
